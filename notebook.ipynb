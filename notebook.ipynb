{
 "cells": [
  {
   "cell_type": "markdown",
   "id": "6c311479",
   "metadata": {},
   "source": [
    "# Django 4.1 Contributors"
   ]
  },
  {
   "cell_type": "markdown",
   "id": "46f902e1",
   "metadata": {},
   "source": [
    "Skip to: [Scope](#scope), [Assumptions](#assumptions), [Data Gathering](#data-gathering), [Analysis](#analysis).\n",
    "\n",
    "---\n",
    "\n",
    "Who contributed to Django 4.1?\n",
    "\n",
    "This answer should be easy to get, surely, because Django is hosted on GitHub. \n",
    "\n",
    "Well, yes, but more goes into a release of Django than just GitHub. There's also the separate ticketing system, Trac, and translations from Transifex, just to name two of the major systems involved. \n",
    "\n",
    "`django/django` also uses an interesting way of cutting releases, as described in [Carlton's notes](https://noumenal.es/posts/what-is-django-4/zj2/) from when he tried to answer this question. \n",
    "\n",
    "To get a more complete view of the information, we need to get data from a few systems. \n",
    "\n",
    "To start: which version do we want to get the information for? In this case, 4.1. \n",
    "\n",
    "Noting of course that this data may still be in flux as this is still the current minor version, and will still have data changes until it is EOL'd some time in 2023 or there abouts. \n",
    "\n",
    "There's also the information just in the comments themselves: \n",
    "\n",
    "* The author and the committer (not always the same person)\n",
    "* The Trac issue (often in the comment message itself)\n",
    "* Any manual thanks (often in the case of security fixes) as part of the message\n",
    "* Any discussions in attached pull requests. \n",
    "\n",
    "And from there, the Trac data, particularly the discussions in the ticket itself. But here, a ticket may have been opened longer than the release window, so why don't we initially limit this to comments on the ticket since the release was branched off. \n",
    "\n",
    "And also adding the same sort of data about commits in the branch from `django/django-docs-translations`, where the contributors are in the commit itself. \n",
    "\n",
    "---\n"
   ]
  },
  {
   "cell_type": "markdown",
   "id": "0cde3153",
   "metadata": {},
   "source": [
    "## Defining Scope  <a class=\"anchor\" id=\"scope\"></a>"
   ]
  },
  {
   "cell_type": "markdown",
   "id": "9858060f",
   "metadata": {},
   "source": [
    "Before we can start analysing, we need to gather the data. \n",
    "\n",
    "Based on the original blog post, we first need to determine the start and stop commit range for the branch in question. \n",
    "\n",
    "To do that, let's get setup: \n",
    "\n",
    " * Clone a local copy of the django repo,"
   ]
  },
  {
   "cell_type": "code",
   "execution_count": 16,
   "id": "8d0aa371",
   "metadata": {},
   "outputs": [
    {
     "name": "stdout",
     "output_type": "stream",
     "text": [
      "Cloning into 'django-codebase'...\n",
      "remote: Enumerating objects: 502374, done.\u001b[K\n",
      "remote: Counting objects: 100% (173/173), done.\u001b[K\n",
      "remote: Compressing objects: 100% (108/108), done.\u001b[K\n",
      "remote: Total 502374 (delta 77), reused 138 (delta 65), pack-reused 502201\u001b[K\n",
      "Receiving objects: 100% (502374/502374), 224.50 MiB | 12.54 MiB/s, done.\n",
      "Resolving deltas: 100% (368533/368533), done.\n",
      "Updating files: 100% (6649/6649), done.\n"
     ]
    }
   ],
   "source": [
    "!git clone https://github.com/django/django django-codebase"
   ]
  },
  {
   "cell_type": "markdown",
   "id": "77c8138b",
   "metadata": {},
   "source": [
    " * Install the `gitPython` package,"
   ]
  },
  {
   "cell_type": "code",
   "execution_count": 18,
   "id": "aed3a2c1",
   "metadata": {
    "scrolled": true
   },
   "outputs": [
    {
     "name": "stdout",
     "output_type": "stream",
     "text": [
      "Requirement already satisfied: GitPython in /Users/glasnt/.pyenv/versions/3.9.9/lib/python3.9/site-packages (3.1.28)\n",
      "Requirement already satisfied: gitdb<5,>=4.0.1 in /Users/glasnt/.pyenv/versions/3.9.9/lib/python3.9/site-packages (from GitPython) (4.0.9)\n",
      "Requirement already satisfied: smmap<6,>=3.0.1 in /Users/glasnt/.pyenv/versions/3.9.9/lib/python3.9/site-packages (from gitdb<5,>=4.0.1->GitPython) (5.0.0)\n",
      "\u001b[33mWARNING: There was an error checking the latest version of pip.\u001b[0m\u001b[33m\n",
      "\u001b[0m"
     ]
    }
   ],
   "source": [
    "import sys\n",
    "!{sys.executable} -m pip install GitPython"
   ]
  },
  {
   "cell_type": "markdown",
   "id": "ae7cf201",
   "metadata": {},
   "source": [
    " * and set up for analysis"
   ]
  },
  {
   "cell_type": "code",
   "execution_count": 34,
   "id": "c9ada74a",
   "metadata": {},
   "outputs": [],
   "source": [
    "from git import Repo\n",
    "repo = Repo(\"django-codebase\")"
   ]
  },
  {
   "cell_type": "markdown",
   "id": "f825ac2c",
   "metadata": {},
   "source": [
    "We want to target the 4.1 release: "
   ]
  },
  {
   "cell_type": "code",
   "execution_count": 35,
   "id": "8bd6d58d",
   "metadata": {},
   "outputs": [],
   "source": [
    "target_release = \"4.1\"\n",
    "previous_release = \"4.0\"  # semver -1"
   ]
  },
  {
   "cell_type": "markdown",
   "id": "59b36417",
   "metadata": {},
   "source": [
    "So using Carlton's method, let's get the start and end commits, and the merge commit: "
   ]
  },
  {
   "cell_type": "code",
   "execution_count": 23,
   "id": "1611fd59",
   "metadata": {},
   "outputs": [],
   "source": [
    "start_commit = repo.commit(previous_release)\n",
    "end_commit = repo.commit(target_release)\n",
    "merge_base = repo.merge_base(start_commit, end_commit)[0]\n",
    "\n",
    "commits = list(repo.iter_commits(str(merge_base) + \"..\" + str(end_commit)))"
   ]
  },
  {
   "cell_type": "markdown",
   "id": "0136c036",
   "metadata": {},
   "source": [
    "We can check the start and end commits to confirm we're in the right range, and about the right commit number: "
   ]
  },
  {
   "cell_type": "code",
   "execution_count": 33,
   "id": "83cda3dc",
   "metadata": {},
   "outputs": [
    {
     "name": "stdout",
     "output_type": "stream",
     "text": [
      "2021-12-07 20:07:32 Mariusz Felisiak [4.0.x] Bumped version for 4.0 release.\n",
      "\n",
      "2022-08-03 18:33:01 Carlton Gibson [4.1.x] Bumped version for 4.0 release.\n",
      "\n",
      "Commit count: 829\n"
     ]
    }
   ],
   "source": [
    "from datetime import datetime\n",
    "\n",
    "for commit in [start_commit, end_commit]: \n",
    "    print(datetime.fromtimestamp(commit.authored_date), commit.author, commit.message)\n",
    "    \n",
    "print(\"Commit count:\", len(commits))"
   ]
  },
  {
   "cell_type": "markdown",
   "id": "dbfae611",
   "metadata": {},
   "source": [
    "This looks about right. "
   ]
  },
  {
   "cell_type": "markdown",
   "id": "5f24757c",
   "metadata": {},
   "source": [
    "---\n"
   ]
  },
  {
   "cell_type": "markdown",
   "id": "1f07bc17",
   "metadata": {},
   "source": [
    "# Assumptions <a class=\"anchor\" id=\"assumptions\"></a>\n",
    "\n"
   ]
  },
  {
   "cell_type": "markdown",
   "id": "4ebcbf62",
   "metadata": {},
   "source": [
    "One of the assumptions we're making here is that we don't just want a list of the authors of the commits. \n",
    "\n",
    "We could already get this data. \n",
    "\n",
    "But more work goes into releasing open source software then just those who author code. \n",
    "\n",
    "Django uses a separate issue tracking system, [Trac](https://code.djangoproject.com/), hosted on https://code.djangoproject.com/. \n",
    "\n",
    "Django also uses a separate system for handling translations, [Transifex](https://www.transifex.com/django/). \n",
    "\n",
    "For our purposes, here are our assumptions: \n"
   ]
  },
  {
   "cell_type": "markdown",
   "id": "3e66a86e",
   "metadata": {},
   "source": [
    "Commits: \n",
    "\n",
    "* The commits in the release branch are the scope of the changes that we will focus on for a release. \n",
    "* The authors of those commits **are contributors. \n",
    "\n",
    "Associating Tickets: \n",
    "\n",
    "* For any commit in scope, the linked tickets are associated work. \n",
    "* The state of those tickets is not in question, because if work happened to make a commit, it counts. \n",
    "\n",
    "Tickets: \n",
    "\n",
    "* Any non-trivial interaction on any linked ticket is a candidate for inclusion, where activity on a ticket will be further analysed. \n",
    "  \n",
    "Associating Pull Requests: \n",
    "\n",
    "* Where tickets have linked GitHub Pull Requests, the linked pull requests are associated work. \n",
    "* Those pull requests may have additional interactions (e.g. code review, comments). \n",
    "\n",
    "Pull Requests: \n",
    "\n",
    "* Any non-trivial interaction on any linked pull request is a candidate for inclusion, where activity on a pull request will be further analysed. \n"
   ]
  },
  {
   "cell_type": "markdown",
   "id": "97a2b288",
   "metadata": {},
   "source": [
    "**Note**: In this case \"non-trivial\" interactions are those interactions that are work done. Arguments can be made about how much interactions count. The quantitative number in this case doesn't count (one interaction of high quality could count, many spam interactions could not). These will be analysed later. "
   ]
  },
  {
   "cell_type": "markdown",
   "id": "2ed826e2",
   "metadata": {},
   "source": [
    "--"
   ]
  },
  {
   "cell_type": "markdown",
   "id": "7bbffbfd",
   "metadata": {},
   "source": [
    "## Gathering Data"
   ]
  },
  {
   "cell_type": "markdown",
   "id": "40cd0a5f",
   "metadata": {},
   "source": [
    "### From `git` \n",
    "\n",
    "With our local git clone, we can go through all the commits in our scope and gather the information about the associated tickets. \n",
    "\n",
    "We're using the assumption that ticket numbers appear in git messages. "
   ]
  },
  {
   "cell_type": "code",
   "execution_count": 173,
   "id": "4adc33f9",
   "metadata": {
    "scrolled": true
   },
   "outputs": [
    {
     "name": "stdout",
     "output_type": "stream",
     "text": [
      "Git Commits: 829\n",
      "Git Trac Links: 563\n",
      "Tickets: 402\n"
     ]
    }
   ],
   "source": [
    "def get_git_commits(commit):\n",
    "    git_commits.append(\n",
    "        {\n",
    "            \"django_version\": target_release,\n",
    "            \"commit_sha\": commit.hexsha,\n",
    "            \"datetime\": commit.authored_date,\n",
    "            \"author\": commit.author.name,\n",
    "            \"author_email\": commit.author.email,\n",
    "            \"committer\": commit.committer.name,\n",
    "            \"committer_email\": commit.committer.email,\n",
    "            \"message\": commit.message,\n",
    "        }\n",
    "    )\n",
    "\n",
    "    # Get all ticket references in message\n",
    "    tickets = [x.replace(\"#\", \"\") for x in re.findall(\"\\#[0-9]*\", commit.message)]\n",
    "\n",
    "    for ticket in tickets:\n",
    "        if ticket:\n",
    "            git_trac_links.append(\n",
    "                {\"commit_sha\": commit.hexsha, \"trac_ticket_id\": ticket}\n",
    "            )\n",
    "\n",
    "            \n",
    "git_commits = []\n",
    "git_trac_links = []\n",
    "tickets = [] \n",
    "            \n",
    "for commit in commits:\n",
    "    get_git_commits(commit)\n",
    "    \n",
    "# Get unique list\n",
    "tickets = list(set([k[\"trac_ticket_id\"] for k in git_trac_links]))\n",
    "\n",
    "print(\"Git Commits:\", len(git_commits))\n",
    "print(\"Git Trac Links:\", len(git_trac_links))\n",
    "print(\"Tickets:\", len(tickets))"
   ]
  },
  {
   "cell_type": "markdown",
   "id": "af46b620",
   "metadata": {},
   "source": [
    "So we now have our associated tickets. \n",
    "\n",
    "---"
   ]
  },
  {
   "cell_type": "markdown",
   "id": "cd614a91",
   "metadata": {},
   "source": [
    "### From Trac\n",
    "From here, we need to get the information for each of these tickets out of Trac. Since this operation is expensive, we'll [cache the results](https://realpython.com/caching-external-api-requests/). "
   ]
  },
  {
   "cell_type": "code",
   "execution_count": 118,
   "id": "6dc5c019",
   "metadata": {},
   "outputs": [],
   "source": [
    "%%capture\n",
    "import sys\n",
    "!{sys.executable} -m pip install requests \"requests-cache[all]\" tqdm"
   ]
  },
  {
   "cell_type": "code",
   "execution_count": 107,
   "id": "d58bd704",
   "metadata": {},
   "outputs": [],
   "source": [
    "import requests\n",
    "from requests_cache import CachedSession\n",
    "\n",
    "# Note: POST may be ignored by default! So ensure we cache that. \n",
    "session = CachedSession('api_cache', backend='sqlite', allowable_methods=('GET', 'POST'))"
   ]
  },
  {
   "cell_type": "markdown",
   "id": "2354f5c8",
   "metadata": {},
   "source": [
    "With that setup, we'll now go through all the trac tickets we found: "
   ]
  },
  {
   "cell_type": "code",
   "execution_count": 123,
   "id": "de8708f9",
   "metadata": {},
   "outputs": [
    {
     "data": {
      "application/vnd.jupyter.widget-view+json": {
       "model_id": "56e817adab154b18a41704fb3f998046",
       "version_major": 2,
       "version_minor": 0
      },
      "text/plain": [
       "  0%|          | 0/402 [00:00<?, ?it/s]"
      ]
     },
     "metadata": {},
     "output_type": "display_data"
    }
   ],
   "source": [
    "# Shout out to John Sandall https://twitter.com/John_Sandall/status/1573711570894462977 \n",
    "from tqdm.notebook import tqdm, trange\n",
    "\n",
    "def get_trac_details(ticket_no):\n",
    "    \n",
    "    ticket_comments = []\n",
    "    \n",
    "    # Shout out to rixx https://gist.github.com/rixx/422392d2aa580b5d286e585418bf6915 \n",
    "    resp = session.post(\n",
    "        DJANGO_TRAC,\n",
    "        data=json.dumps(\n",
    "            {\"method\": \"ticket.get\", \"id\": ticket_no, \"params\": [ticket_no]}\n",
    "        ),\n",
    "        headers={\"Content-Type\": \"application/json\"},\n",
    "    )\n",
    "\n",
    "    data = resp.json()[\"result\"][3]\n",
    "    \n",
    "    ticket = {\n",
    "        \"ticket_id\": ticket_no,\n",
    "        \"status\": data[\"status\"],\n",
    "        \"reporter\": data[\"reporter\"],\n",
    "        \"resolution\": data[\"resolution\"],\n",
    "        \"description\": data[\"description\"],\n",
    "    }\n",
    "\n",
    "    # struct ticket.changeLog(int id, int when=0)\n",
    "    # Return the changelog as a list of tuples of the form\n",
    "    # (time, author, field, oldvalue, newvalue, permanent).\n",
    "    response = session.post(\n",
    "        DJANGO_TRAC,\n",
    "        data=json.dumps(\n",
    "            {\"method\": \"ticket.changeLog\", \"id\": ticket_no, \"params\": [ticket_no]}\n",
    "        ),\n",
    "        headers={\"Content-Type\": \"application/json\"},\n",
    "    )\n",
    "    \n",
    "    changes = response.json()[\"result\"]\n",
    "\n",
    "    for change in changes:\n",
    "        ticket_comments.append(\n",
    "            {\n",
    "                \"ticket_id\": ticket_no,\n",
    "                \"datetime\": change[0][\"__jsonclass__\"][1],\n",
    "                \"name\": change[1],\n",
    "                \"change_type\": change[2],\n",
    "                \"old_value\": change[3],\n",
    "                \"new_value\": change[4],\n",
    "            }\n",
    "        )\n",
    "    return ticket, ticket_comments\n",
    "\n",
    "\n",
    "\n",
    "trac_tickets = []\n",
    "trac_ticket_comments = {}\n",
    "\n",
    "DJANGO_TRAC = \"https://code.djangoproject.com/jsonrpc\"\n",
    "\n",
    "for ticket_no in tqdm(tickets): \n",
    "    ticket, ticket_comments = get_trac_details(ticket_no)\n",
    "    trac_tickets.append(ticket)\n",
    "    trac_ticket_comments[ticket_no] = ticket_comments\n"
   ]
  },
  {
   "cell_type": "markdown",
   "id": "5cc3588e",
   "metadata": {},
   "source": [
    "We now have a list of all the Trac tickets and comments associated to commits in our target release. \n",
    "\n",
    "----"
   ]
  },
  {
   "cell_type": "markdown",
   "id": "f4248bc5",
   "metadata": {},
   "source": [
    "### From GitHub\n",
    "\n",
    "From here, we can check for additional interactions on GitHub. \n",
    "\n",
    "Django's trac uses a [custom patch](https://github.com/django/code.djangoproject.com/blob/main/trac-env/htdocs/tickethacks.js#L38) to use the GitHub API to search for Pull Requests with the linked tickets, much like we did for associating commits to track tickets. \n",
    "\n",
    "We can use this same GitHub Search API to get the list of associated pull requests, then all the interactions on those pull requests. "
   ]
  },
  {
   "cell_type": "code",
   "execution_count": 139,
   "id": "6b2426ac",
   "metadata": {
    "scrolled": true
   },
   "outputs": [
    {
     "name": "stdout",
     "output_type": "stream",
     "text": [
      "The dotenv extension is already loaded. To reload it, use:\n",
      "  %reload_ext dotenv\n"
     ]
    }
   ],
   "source": [
    "%load_ext dotenv\n",
    "%dotenv"
   ]
  },
  {
   "cell_type": "code",
   "execution_count": 178,
   "id": "81ee3303",
   "metadata": {},
   "outputs": [],
   "source": [
    "# Load a GitHub token to get better rate limits. \n",
    "import os\n",
    "GITHUB_TOKEN = os.getenv(\"GITHUB_TOKEN\")"
   ]
  },
  {
   "cell_type": "code",
   "execution_count": 181,
   "id": "96195a91",
   "metadata": {},
   "outputs": [
    {
     "name": "stdout",
     "output_type": "stream",
     "text": [
      "GitHub core API limit: 80 / 5000 , resets 2022-10-10 17:04:41\n",
      "GitHub search API limit: 0 / 30 , resets 2022-10-10 16:09:59\n"
     ]
    }
   ],
   "source": [
    "# Check your rate limits. \n",
    "\n",
    "# https://docs.github.com/en/rest/rate-limit \n",
    "# curl \\\n",
    "#  -H \"Accept: application/vnd.github+json\" \\\n",
    "#  -H \"Authorization: Bearer <YOUR-TOKEN>\" \\\n",
    "#  https://api.github.com/rate_limit\n",
    "\n",
    "from datetime import datetime\n",
    "\n",
    "with session.cache_disabled():\n",
    "    resp = session.get(\"https://api.github.com/rate_limit\",\n",
    "            headers={\n",
    "                \"Authorization\": f\"Bearer {GITHUB_TOKEN}\",\n",
    "                \"Accept\": \"application/vnd.github.v3.raw\",\n",
    "            }\n",
    "        )\n",
    "data = resp.json()[\"resources\"]\n",
    "now = datetime.now()\n",
    "\n",
    "for limit_type in [\"core\", \"search\"]: \n",
    "    d = data[limit_type]\n",
    "    print(f\"GitHub {limit_type} API limit:\", d[\"used\"], \"/\", d[\"limit\"], \", resets\", datetime.fromtimestamp(d[\"reset\"]) )\n"
   ]
  },
  {
   "cell_type": "code",
   "execution_count": 182,
   "id": "b6c49fd7",
   "metadata": {},
   "outputs": [
    {
     "data": {
      "application/vnd.jupyter.widget-view+json": {
       "model_id": "0824b23a83044c38a26587e43ae41025",
       "version_major": 2,
       "version_minor": 0
      },
      "text/plain": [
       "  0%|          | 0/402 [00:00<?, ?it/s]"
      ]
     },
     "metadata": {},
     "output_type": "display_data"
    },
    {
     "name": "stdout",
     "output_type": "stream",
     "text": [
      "Pull Requests: 756\n"
     ]
    }
   ],
   "source": [
    "import time \n",
    "\n",
    "def github_api(uri):\n",
    "    resp = session.get(\n",
    "        \"https://api.github.com\" + uri,\n",
    "        headers={\n",
    "            \"Authorization\": f\"Bearer {GITHUB_TOKEN}\",\n",
    "            \"Accept\": \"application/vnd.github+json\",\n",
    "        }\n",
    "    )\n",
    "\n",
    "    if resp.status_code != 200:\n",
    "        if \"x-ratelimit-reset\" in resp.headers:\n",
    "            wait_seconds = int(resp.headers.get(\"x-ratelimit-reset\")) - int(time.time())\n",
    "            print(f\"Rate limit expired. Wait {wait_seconds} seconds.\")\n",
    "        raise ValueError(resp.json()[\"message\"])\n",
    "\n",
    "    return resp.json()\n",
    "\n",
    "def get_pull_requests(ticket_id):\n",
    "    data = github_api(\n",
    "        \"/search/issues?q=repo:django/django+in:title+type:pr+\"\n",
    "        + \"%23\" + ticket_id + \"%20\" \n",
    "        + \"+%23\"+ ticket_id + \"%2C\" \n",
    "        + \"+%23\"+ ticket_id + \"%3A\" \n",
    "        + \"+%23\"+ ticket_id + \"%29\"\n",
    "    )[\"items\"]\n",
    "\n",
    "    return [x[\"number\"] for x in data]\n",
    "\n",
    "pull_requests = []\n",
    "\n",
    "for ticket_no in tqdm(tickets): \n",
    "    pull_requests += get_pull_requests(ticket_no)\n",
    "\n",
    "pull_requests = list(set(pull_requests))\n",
    "print(\"Pull Requests:\", len(pull_requests))"
   ]
  },
  {
   "cell_type": "markdown",
   "id": "9dec2754",
   "metadata": {},
   "source": [
    "For all these pull requests, we need to get the comments associated.  "
   ]
  },
  {
   "cell_type": "code",
   "execution_count": 183,
   "id": "8a684dec",
   "metadata": {},
   "outputs": [
    {
     "data": {
      "application/vnd.jupyter.widget-view+json": {
       "model_id": "277fdd9afe61413793118908ed6a24ef",
       "version_major": 2,
       "version_minor": 0
      },
      "text/plain": [
       "  0%|          | 0/756 [00:00<?, ?it/s]"
      ]
     },
     "metadata": {},
     "output_type": "display_data"
    },
    {
     "name": "stdout",
     "output_type": "stream",
     "text": [
      "Pull Request Comments: 6263\n"
     ]
    }
   ],
   "source": [
    "def get_comments_from_pull_request(pull_request_id):\n",
    "    comments = []\n",
    "\n",
    "    # Comments\n",
    "    data = github_api(f\"/repos/django/django/pulls/{pull_request_id}/comments\")\n",
    "\n",
    "    for record in data:\n",
    "        comments.append(\n",
    "            {\n",
    "                \"user\": record[\"user\"][\"login\"],\n",
    "                \"commit_id\": record[\"commit_id\"],\n",
    "                \"message\": record[\"body\"],\n",
    "                \"pull_request\": pull_request_id,\n",
    "            }\n",
    "        )\n",
    "\n",
    "    # Review Comments\n",
    "    data = github_api(f\"/repos/django/django/issues/{pull_request_id}/comments\")\n",
    "\n",
    "    for record in data:\n",
    "        comments.append(\n",
    "            {\n",
    "                \"user\": record[\"user\"][\"login\"],\n",
    "                \"commit_id\": None,\n",
    "                \"message\": record[\"body\"],\n",
    "                \"pull_request\": pull_request_id,\n",
    "            }\n",
    "        )\n",
    "\n",
    "    return comments\n",
    "\n",
    "pr_comments = []\n",
    "\n",
    "for request in tqdm(pull_requests):\n",
    "    pr_comments += get_comments_from_pull_request(request)\n",
    "\n",
    "print(\"Pull Request Comments:\", len(pr_comments))\n"
   ]
  },
  {
   "cell_type": "markdown",
   "id": "d20227e8",
   "metadata": {},
   "source": [
    "Now, we have all the data we need to start analysing. \n",
    "\n",
    "---"
   ]
  },
  {
   "cell_type": "markdown",
   "id": "fe0f6b2c",
   "metadata": {},
   "source": [
    "# Analysis <a class=\"anchor\" id=\"analysis\"></a>\n",
    " \n",
    " \n",
    "TODO"
   ]
  }
 ],
 "metadata": {
  "kernelspec": {
   "display_name": "venv",
   "language": "python",
   "name": "venv"
  },
  "language_info": {
   "codemirror_mode": {
    "name": "ipython",
    "version": 3
   },
   "file_extension": ".py",
   "mimetype": "text/x-python",
   "name": "python",
   "nbconvert_exporter": "python",
   "pygments_lexer": "ipython3",
   "version": "3.9.9"
  }
 },
 "nbformat": 4,
 "nbformat_minor": 5
}
