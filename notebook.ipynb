{
 "cells": [
  {
   "cell_type": "markdown",
   "id": "6c311479",
   "metadata": {},
   "source": [
    "# Django 4.1 Contributors"
   ]
  },
  {
   "cell_type": "markdown",
   "id": "79757480",
   "metadata": {},
   "source": [
    "Skip to: [Scope](#scope), [Assumptions](#assumptions), [Data Gathering](#data-gathering), [Analysis](#analysis).\n",
    "\n",
    "---\n",
    "\n",
    "Who contributed to Django 4.1?\n",
    "\n",
    "This answer should be easy to get, surely, because Django is hosted on GitHub. \n",
    "\n",
    "Well, yes, but more goes into a release of Django than just GitHub. There's also the separate ticketing system, Trac, and translations from Transifex, just to name two of the major systems involved. \n",
    "\n",
    "`django/django` also uses an interesting way of cutting releases, as described in [Carlton's notes](https://noumenal.es/posts/what-is-django-4/zj2/) from when he tried to answer this question. \n",
    "\n",
    "To get a more complete view of the information, we need to get data from a few systems. \n",
    "\n",
    "To start: which version do we want to get the information for? In this case, 4.1. \n",
    "\n",
    "Noting of course that this data may still be in flux as this is still the current minor version, and will still have data changes until it is EOL'd some time in 2023 or there abouts. \n",
    "\n",
    "There's also the information just in the comments themselves: \n",
    "\n",
    "* The author and the committer (not always the same person)\n",
    "* The Trac issue (often in the comment message itself)\n",
    "* Any manual thanks (often in the case of security fixes) as part of the message\n",
    "* Any discussions in attached pull requests. \n",
    "\n",
    "And from there, the Trac data, particularly the discussions in the ticket itself. But here, a ticket may have been opened longer than the release window, so why don't we initially limit this to comments on the ticket since the release was branched off. \n",
    "\n",
    "And also adding the same sort of data about commits in the branch from `django/django-docs-translations`, where the contributors are in the commit itself. \n",
    "\n",
    "---\n"
   ]
  },
  {
   "cell_type": "markdown",
   "id": "b5dc2c5a",
   "metadata": {},
   "source": [
    "## Defining Scope  <a class=\"anchor\" id=\"scope\"></a>"
   ]
  },
  {
   "cell_type": "markdown",
   "id": "9ba257f2",
   "metadata": {},
   "source": [
    "Before we can start analysing, we need to gather the data. \n",
    "\n",
    "Based on the original blog post, we first need to determine the start and stop commit range for the branch in question. \n",
    "\n",
    "To do that, let's get setup: \n",
    "\n",
    " * Clone a local copy of the django repo,"
   ]
  },
  {
   "cell_type": "code",
   "execution_count": 1,
   "id": "ae5de0a7",
   "metadata": {},
   "outputs": [
    {
     "name": "stdout",
     "output_type": "stream",
     "text": [
      "fatal: destination path 'django-codebase' already exists and is not an empty directory.\r\n"
     ]
    }
   ],
   "source": [
    "!git clone https://github.com/django/django django-codebase"
   ]
  },
  {
   "cell_type": "markdown",
   "id": "7e15814d",
   "metadata": {},
   "source": [
    " * Install the `gitPython` package,"
   ]
  },
  {
   "cell_type": "code",
   "execution_count": 2,
   "id": "1e4a35dd",
   "metadata": {
    "scrolled": true
   },
   "outputs": [
    {
     "name": "stdout",
     "output_type": "stream",
     "text": [
      "Requirement already satisfied: GitPython in ./venv/lib/python3.10/site-packages (3.1.29)\n",
      "Requirement already satisfied: gitdb<5,>=4.0.1 in ./venv/lib/python3.10/site-packages (from GitPython) (4.0.9)\n",
      "Requirement already satisfied: smmap<6,>=3.0.1 in ./venv/lib/python3.10/site-packages (from gitdb<5,>=4.0.1->GitPython) (5.0.0)\n",
      "\n",
      "\u001b[1m[\u001b[0m\u001b[34;49mnotice\u001b[0m\u001b[1;39;49m]\u001b[0m\u001b[39;49m A new release of pip available: \u001b[0m\u001b[31;49m22.2.2\u001b[0m\u001b[39;49m -> \u001b[0m\u001b[32;49m22.3\u001b[0m\n",
      "\u001b[1m[\u001b[0m\u001b[34;49mnotice\u001b[0m\u001b[1;39;49m]\u001b[0m\u001b[39;49m To update, run: \u001b[0m\u001b[32;49mpip install --upgrade pip\u001b[0m\n"
     ]
    }
   ],
   "source": [
    "import sys\n",
    "!{sys.executable} -m pip install GitPython"
   ]
  },
  {
   "cell_type": "markdown",
   "id": "d0963704",
   "metadata": {},
   "source": [
    " * and set up for analysis"
   ]
  },
  {
   "cell_type": "code",
   "execution_count": 3,
   "id": "daf2d794",
   "metadata": {},
   "outputs": [],
   "source": [
    "from git import Repo\n",
    "repo = Repo(\"django-codebase\")"
   ]
  },
  {
   "cell_type": "markdown",
   "id": "20c85b43",
   "metadata": {},
   "source": [
    "We want to target the 4.1 release: "
   ]
  },
  {
   "cell_type": "code",
   "execution_count": 4,
   "id": "66c1e612",
   "metadata": {},
   "outputs": [],
   "source": [
    "target_release = \"4.1\"\n",
    "previous_release = \"4.0\"  # semver -1"
   ]
  },
  {
   "cell_type": "markdown",
   "id": "9bda36d3",
   "metadata": {},
   "source": [
    "So using Carlton's method, let's get the start and end commits, and the merge commit: "
   ]
  },
  {
   "cell_type": "code",
   "execution_count": 5,
   "id": "6cebd98b",
   "metadata": {},
   "outputs": [],
   "source": [
    "start_commit = repo.commit(previous_release)\n",
    "end_commit = repo.commit(target_release)\n",
    "merge_base = repo.merge_base(start_commit, end_commit)[0]\n",
    "\n",
    "commits = list(repo.iter_commits(str(merge_base) + \"..\" + str(end_commit)))"
   ]
  },
  {
   "cell_type": "markdown",
   "id": "651c98e9",
   "metadata": {},
   "source": [
    "We can check the start and end commits to confirm we're in the right range, and about the right commit number: "
   ]
  },
  {
   "cell_type": "code",
   "execution_count": 6,
   "id": "a438c20e",
   "metadata": {},
   "outputs": [
    {
     "name": "stdout",
     "output_type": "stream",
     "text": [
      "2021-12-07 20:07:32 Mariusz Felisiak [4.0.x] Bumped version for 4.0 release.\n",
      "\n",
      "2022-08-03 18:33:01 Carlton Gibson [4.1.x] Bumped version for 4.0 release.\n",
      "\n",
      "Commit count: 829\n"
     ]
    }
   ],
   "source": [
    "from datetime import datetime\n",
    "\n",
    "for commit in [start_commit, end_commit]: \n",
    "    print(datetime.fromtimestamp(commit.authored_date), commit.author, commit.message)\n",
    "    \n",
    "print(\"Commit count:\", len(commits))"
   ]
  },
  {
   "cell_type": "markdown",
   "id": "3189d6fe",
   "metadata": {},
   "source": [
    "This looks about right. "
   ]
  },
  {
   "cell_type": "markdown",
   "id": "80717a02",
   "metadata": {},
   "source": [
    "---\n"
   ]
  },
  {
   "cell_type": "markdown",
   "id": "48b73cfd",
   "metadata": {},
   "source": [
    "# Assumptions <a class=\"anchor\" id=\"assumptions\"></a>\n",
    "\n"
   ]
  },
  {
   "cell_type": "markdown",
   "id": "85f92730",
   "metadata": {},
   "source": [
    "One of the assumptions we're making here is that we don't just want a list of the authors of the commits. \n",
    "\n",
    "We could already get this data, very easily. \n",
    "\n",
    "But more work goes into releasing open source software then just those who author code. \n",
    "\n",
    "Django uses a separate issue tracking system, [Trac](https://code.djangoproject.com/), hosted on https://code.djangoproject.com/. \n",
    "\n",
    "Django also uses a separate system for handling translations, [Transifex](https://www.transifex.com/django/). \n",
    "\n",
    "For our purposes, here are our assumptions: \n"
   ]
  },
  {
   "cell_type": "markdown",
   "id": "77d8e9c4",
   "metadata": {},
   "source": [
    "Commits: \n",
    "\n",
    "* The commits in the release branch are the scope of the changes that we will focus on for a release. \n",
    "* The authors of those commits are contributors. \n",
    "\n",
    "Associating Tickets: \n",
    "\n",
    "* For any commit in scope, the linked tickets are associated work. \n",
    "* The state of those tickets is not in question, because if work happened to make a commit, it counts. \n",
    "\n",
    "Tickets: \n",
    "\n",
    "* Any non-trivial interaction on any linked ticket is a candidate for inclusion, where activity on a ticket will be further analysed. \n",
    "  \n",
    "Associating Pull Requests: \n",
    "\n",
    "* Where tickets have linked GitHub Pull Requests, the linked pull requests are associated work. \n",
    "* Those pull requests may have additional interactions (e.g. code review, comments). \n",
    "\n",
    "Pull Requests: \n",
    "\n",
    "* Any non-trivial interaction on any linked pull request is a candidate for inclusion, where activity on a pull request will be further analysed. \n"
   ]
  },
  {
   "cell_type": "markdown",
   "id": "7d7446b1",
   "metadata": {},
   "source": [
    "**Note**: In this case \"non-trivial\" interactions are those interactions that are work done. Arguments can be made about how much interactions count. The quantitative number in this case doesn't count (one interaction of high quality could count, many spam interactions could not). These will be analysed later. "
   ]
  },
  {
   "cell_type": "markdown",
   "id": "f1059cb7",
   "metadata": {},
   "source": [
    "--"
   ]
  },
  {
   "cell_type": "markdown",
   "id": "066673ee",
   "metadata": {},
   "source": [
    "## Gathering Data"
   ]
  },
  {
   "cell_type": "markdown",
   "id": "406aee15",
   "metadata": {},
   "source": [
    "### From `git` \n",
    "\n",
    "With our local git clone, we can go through all the commits in our scope and gather the information about the associated tickets. \n",
    "\n",
    "We're using the assumption that ticket numbers appear in git messages. "
   ]
  },
  {
   "cell_type": "code",
   "execution_count": 7,
   "id": "eaf343ed",
   "metadata": {
    "scrolled": true
   },
   "outputs": [
    {
     "name": "stdout",
     "output_type": "stream",
     "text": [
      "Git Commits: 829\n",
      "Git Trac Links: 563\n",
      "Tickets: 402\n"
     ]
    }
   ],
   "source": [
    "import re \n",
    "def get_git_commits(commit):\n",
    "    git_commits.append(\n",
    "        {\n",
    "            \"django_version\": target_release,\n",
    "            \"commit_sha\": commit.hexsha,\n",
    "            \"datetime\": commit.authored_date,\n",
    "            \"author\": commit.author.name,\n",
    "            \"author_email\": commit.author.email,\n",
    "            \"committer\": commit.committer.name,\n",
    "            \"committer_email\": commit.committer.email,\n",
    "            \"message\": commit.message,\n",
    "        }\n",
    "    )\n",
    "\n",
    "    # Get all ticket references in message\n",
    "    tickets = [x.replace(\"#\", \"\") for x in re.findall(\"\\#[0-9]*\", commit.message)]\n",
    "\n",
    "    for ticket in tickets:\n",
    "        if ticket:\n",
    "            git_trac_links.append(\n",
    "                {\"commit_sha\": commit.hexsha, \"trac_ticket_id\": ticket}\n",
    "            )\n",
    "\n",
    "            \n",
    "git_commits = []\n",
    "git_trac_links = []\n",
    "tickets = [] \n",
    "            \n",
    "for commit in commits:\n",
    "    get_git_commits(commit)\n",
    "    \n",
    "# Get unique list\n",
    "tickets = list(set([k[\"trac_ticket_id\"] for k in git_trac_links]))\n",
    "\n",
    "print(\"Git Commits:\", len(git_commits))\n",
    "print(\"Git Trac Links:\", len(git_trac_links))\n",
    "print(\"Tickets:\", len(tickets))"
   ]
  },
  {
   "cell_type": "markdown",
   "id": "ce5f3bbf",
   "metadata": {},
   "source": [
    "So we now have our associated tickets. \n",
    "\n",
    "---"
   ]
  },
  {
   "cell_type": "markdown",
   "id": "b7ada793",
   "metadata": {},
   "source": [
    "### From Trac\n",
    "From here, we need to get the information for each of these tickets out of Trac. Since this operation is expensive, we'll [cache the results](https://realpython.com/caching-external-api-requests/). "
   ]
  },
  {
   "cell_type": "code",
   "execution_count": 8,
   "id": "6c8ae990",
   "metadata": {},
   "outputs": [],
   "source": [
    "%%capture\n",
    "import sys\n",
    "!{sys.executable} -m pip install requests \"requests-cache[all]\" tqdm ipywidgets"
   ]
  },
  {
   "cell_type": "code",
   "execution_count": 9,
   "id": "be876b5f",
   "metadata": {},
   "outputs": [],
   "source": [
    "import requests\n",
    "from requests_cache import CachedSession\n",
    "\n",
    "# Note: POST may be ignored by default! So ensure we cache that. \n",
    "session = CachedSession('api_cache', backend='sqlite', allowable_methods=('GET', 'POST'))"
   ]
  },
  {
   "cell_type": "markdown",
   "id": "7339ed5c",
   "metadata": {},
   "source": [
    "With that setup, we'll now go through all the trac tickets we found: "
   ]
  },
  {
   "cell_type": "code",
   "execution_count": 10,
   "id": "9b6e0d7d",
   "metadata": {},
   "outputs": [
    {
     "data": {
      "application/vnd.jupyter.widget-view+json": {
       "model_id": "60f774aceb674c6b990297cbee0ac6c4",
       "version_major": 2,
       "version_minor": 0
      },
      "text/plain": [
       "  0%|          | 0/402 [00:00<?, ?it/s]"
      ]
     },
     "metadata": {},
     "output_type": "display_data"
    },
    {
     "name": "stdout",
     "output_type": "stream",
     "text": [
      "Track Tickets: 402\n",
      "Track Ticket Comments: 9799\n"
     ]
    }
   ],
   "source": [
    "import json\n",
    "\n",
    "# Shout out to John Sandall https://twitter.com/John_Sandall/status/1573711570894462977 \n",
    "from tqdm.notebook import tqdm, trange\n",
    "\n",
    "def get_trac_details(ticket_no):\n",
    "    \n",
    "    ticket_comments = []\n",
    "    \n",
    "    # Shout out to rixx https://gist.github.com/rixx/422392d2aa580b5d286e585418bf6915 \n",
    "    resp = session.post(\n",
    "        DJANGO_TRAC,\n",
    "        data=json.dumps(\n",
    "            {\"method\": \"ticket.get\", \"id\": ticket_no, \"params\": [ticket_no]}\n",
    "        ),\n",
    "        headers={\"Content-Type\": \"application/json\"},\n",
    "    )\n",
    "\n",
    "    data = resp.json()[\"result\"][3]\n",
    "    \n",
    "    ticket = {\n",
    "        \"ticket_id\": ticket_no,\n",
    "        \"status\": data[\"status\"],\n",
    "        \"reporter\": data[\"reporter\"],\n",
    "        \"resolution\": data[\"resolution\"],\n",
    "        \"description\": data[\"description\"],\n",
    "    }\n",
    "\n",
    "    # struct ticket.changeLog(int id, int when=0)\n",
    "    # Return the changelog as a list of tuples of the form\n",
    "    # (time, author, field, oldvalue, newvalue, permanent).\n",
    "    response = session.post(\n",
    "        DJANGO_TRAC,\n",
    "        data=json.dumps(\n",
    "            {\"method\": \"ticket.changeLog\", \"id\": ticket_no, \"params\": [ticket_no]}\n",
    "        ),\n",
    "        headers={\"Content-Type\": \"application/json\"},\n",
    "    )\n",
    "    \n",
    "    changes = response.json()[\"result\"]\n",
    "\n",
    "    for change in changes:\n",
    "        ticket_comments.append(\n",
    "            {\n",
    "                \"ticket_id\": ticket_no,\n",
    "                \"datetime\": change[0][\"__jsonclass__\"][1],\n",
    "                \"name\": change[1],\n",
    "                \"change_type\": change[2],\n",
    "                \"old_value\": change[3],\n",
    "                \"new_value\": change[4],\n",
    "            }\n",
    "        )\n",
    "    return ticket, ticket_comments\n",
    "\n",
    "\n",
    "\n",
    "trac_tickets = []\n",
    "trac_ticket_comments = []\n",
    "\n",
    "DJANGO_TRAC = \"https://code.djangoproject.com/jsonrpc\"\n",
    "\n",
    "for ticket_no in tqdm(tickets): \n",
    "    ticket, ticket_comments = get_trac_details(ticket_no)\n",
    "    trac_tickets.append(ticket)\n",
    "    trac_ticket_comments += ticket_comments\n",
    "\n",
    "print(\"Track Tickets:\", len(trac_tickets))\n",
    "print(\"Track Ticket Comments:\", len(trac_ticket_comments))"
   ]
  },
  {
   "cell_type": "markdown",
   "id": "183bc4a6",
   "metadata": {},
   "source": [
    "We now have a list of all the Trac tickets and comments associated to commits in our target release. \n",
    "\n",
    "----"
   ]
  },
  {
   "cell_type": "markdown",
   "id": "2472b59a",
   "metadata": {},
   "source": [
    "### From GitHub\n",
    "\n",
    "From here, we can check for additional interactions on GitHub. \n",
    "\n",
    "Django's trac uses a [custom patch](https://github.com/django/code.djangoproject.com/blob/main/trac-env/htdocs/tickethacks.js#L38) to use the GitHub API to search for Pull Requests with the linked tickets, much like we did for associating commits to track tickets. \n",
    "\n",
    "We can use this same GitHub Search API to get the list of associated pull requests, then all the interactions on those pull requests. "
   ]
  },
  {
   "cell_type": "code",
   "execution_count": 11,
   "id": "e1b7356c",
   "metadata": {
    "scrolled": true
   },
   "outputs": [],
   "source": [
    "%load_ext dotenv\n",
    "%dotenv"
   ]
  },
  {
   "cell_type": "code",
   "execution_count": 12,
   "id": "fb77a6c3",
   "metadata": {},
   "outputs": [],
   "source": [
    "# Load a GitHub token to get better rate limits. \n",
    "import os\n",
    "GITHUB_TOKEN = os.getenv(\"GITHUB_TOKEN\")"
   ]
  },
  {
   "cell_type": "code",
   "execution_count": 13,
   "id": "9d784e07",
   "metadata": {},
   "outputs": [
    {
     "ename": "KeyError",
     "evalue": "'resources'",
     "output_type": "error",
     "traceback": [
      "\u001b[0;31m---------------------------------------------------------------------------\u001b[0m",
      "\u001b[0;31mKeyError\u001b[0m                                  Traceback (most recent call last)",
      "Cell \u001b[0;32mIn [13], line 18\u001b[0m\n\u001b[1;32m     11\u001b[0m \u001b[38;5;28;01mwith\u001b[39;00m session\u001b[38;5;241m.\u001b[39mcache_disabled():\n\u001b[1;32m     12\u001b[0m     resp \u001b[38;5;241m=\u001b[39m session\u001b[38;5;241m.\u001b[39mget(\u001b[38;5;124m\"\u001b[39m\u001b[38;5;124mhttps://api.github.com/rate_limit\u001b[39m\u001b[38;5;124m\"\u001b[39m,\n\u001b[1;32m     13\u001b[0m             headers\u001b[38;5;241m=\u001b[39m{\n\u001b[1;32m     14\u001b[0m                 \u001b[38;5;124m\"\u001b[39m\u001b[38;5;124mAuthorization\u001b[39m\u001b[38;5;124m\"\u001b[39m: \u001b[38;5;124mf\u001b[39m\u001b[38;5;124m\"\u001b[39m\u001b[38;5;124mBearer \u001b[39m\u001b[38;5;132;01m{\u001b[39;00mGITHUB_TOKEN\u001b[38;5;132;01m}\u001b[39;00m\u001b[38;5;124m\"\u001b[39m,\n\u001b[1;32m     15\u001b[0m                 \u001b[38;5;124m\"\u001b[39m\u001b[38;5;124mAccept\u001b[39m\u001b[38;5;124m\"\u001b[39m: \u001b[38;5;124m\"\u001b[39m\u001b[38;5;124mapplication/vnd.github.v3.raw\u001b[39m\u001b[38;5;124m\"\u001b[39m,\n\u001b[1;32m     16\u001b[0m             }\n\u001b[1;32m     17\u001b[0m         )\n\u001b[0;32m---> 18\u001b[0m data \u001b[38;5;241m=\u001b[39m \u001b[43mresp\u001b[49m\u001b[38;5;241;43m.\u001b[39;49m\u001b[43mjson\u001b[49m\u001b[43m(\u001b[49m\u001b[43m)\u001b[49m\u001b[43m[\u001b[49m\u001b[38;5;124;43m\"\u001b[39;49m\u001b[38;5;124;43mresources\u001b[39;49m\u001b[38;5;124;43m\"\u001b[39;49m\u001b[43m]\u001b[49m\n\u001b[1;32m     19\u001b[0m now \u001b[38;5;241m=\u001b[39m datetime\u001b[38;5;241m.\u001b[39mnow()\n\u001b[1;32m     21\u001b[0m \u001b[38;5;28;01mfor\u001b[39;00m limit_type \u001b[38;5;129;01min\u001b[39;00m [\u001b[38;5;124m\"\u001b[39m\u001b[38;5;124mcore\u001b[39m\u001b[38;5;124m\"\u001b[39m, \u001b[38;5;124m\"\u001b[39m\u001b[38;5;124msearch\u001b[39m\u001b[38;5;124m\"\u001b[39m]: \n",
      "\u001b[0;31mKeyError\u001b[0m: 'resources'"
     ]
    }
   ],
   "source": [
    "# Check your rate limits. \n",
    "\n",
    "# https://docs.github.com/en/rest/rate-limit \n",
    "# curl \\\n",
    "#  -H \"Accept: application/vnd.github+json\" \\\n",
    "#  -H \"Authorization: Bearer <YOUR-TOKEN>\" \\\n",
    "#  https://api.github.com/rate_limit\n",
    "\n",
    "from datetime import datetime\n",
    "\n",
    "with session.cache_disabled():\n",
    "    resp = session.get(\"https://api.github.com/rate_limit\",\n",
    "            headers={\n",
    "                \"Authorization\": f\"Bearer {GITHUB_TOKEN}\",\n",
    "                \"Accept\": \"application/vnd.github.v3.raw\",\n",
    "            }\n",
    "        )\n",
    "data = resp.json()[\"resources\"]\n",
    "now = datetime.now()\n",
    "\n",
    "for limit_type in [\"core\", \"search\"]: \n",
    "    d = data[limit_type]\n",
    "    print(f\"GitHub {limit_type} API limit:\", d[\"used\"], \"/\", d[\"limit\"], \", resets\", datetime.fromtimestamp(d[\"reset\"]) )\n"
   ]
  },
  {
   "cell_type": "code",
   "execution_count": 14,
   "id": "c873224b",
   "metadata": {},
   "outputs": [
    {
     "data": {
      "application/vnd.jupyter.widget-view+json": {
       "model_id": "fddb681f14cb491a8d313a0743e81156",
       "version_major": 2,
       "version_minor": 0
      },
      "text/plain": [
       "  0%|          | 0/402 [00:00<?, ?it/s]"
      ]
     },
     "metadata": {},
     "output_type": "display_data"
    },
    {
     "data": {
      "application/vnd.jupyter.widget-view+json": {
       "model_id": "ee78a24c57d14e8db3e93af5f177bf0a",
       "version_major": 2,
       "version_minor": 0
      },
      "text/plain": [
       "  0%|          | 0/756 [00:00<?, ?it/s]"
      ]
     },
     "metadata": {},
     "output_type": "display_data"
    },
    {
     "name": "stdout",
     "output_type": "stream",
     "text": [
      "Pull requests: 756\n"
     ]
    }
   ],
   "source": [
    "import time \n",
    "\n",
    "def github_api(uri):\n",
    "    resp = session.get(\n",
    "        \"https://api.github.com\" + uri,\n",
    "        headers={\n",
    "            \"Authorization\": f\"Bearer {GITHUB_TOKEN}\",\n",
    "            \"Accept\": \"application/vnd.github+json\",\n",
    "        }\n",
    "    )\n",
    "\n",
    "    if resp.status_code != 200:\n",
    "        if \"x-ratelimit-reset\" in resp.headers:\n",
    "            wait_seconds = int(resp.headers.get(\"x-ratelimit-reset\")) - int(time.time())\n",
    "            wait_minutes = int(wait_seconds / 60)\n",
    "            print(f\"Rate limit expired. Wait {wait_minutes} minutes (or {wait_seconds} seconds).\")\n",
    "        raise ValueError(resp.json()[\"message\"])\n",
    "\n",
    "    return resp.json()\n",
    "\n",
    "def search_for_pull_requests(ticket_id):\n",
    "    data = github_api(\n",
    "        \"/search/issues?q=repo:django/django+in:title+type:pr+\"\n",
    "        + \"%23\" + ticket_id + \"%20\" \n",
    "        + \"+%23\"+ ticket_id + \"%2C\" \n",
    "        + \"+%23\"+ ticket_id + \"%3A\" \n",
    "        + \"+%23\"+ ticket_id + \"%29\"\n",
    "    )[\"items\"]\n",
    "\n",
    "    return [x[\"number\"] for x in data]\n",
    "\n",
    "\n",
    "def get_pull_request(pr_id): \n",
    "    data = github_api(f\"/repos/django/django/pulls/{pr_id}\")\n",
    "    \n",
    "    pr = {\"id\": data[\"number\"], \n",
    "          \"state\": data[\"state\"], \n",
    "          \"user\": data[\"user\"][\"login\"], \n",
    "         }\n",
    "    \n",
    "    return pr\n",
    "\n",
    "pull_request_ids = []\n",
    "pull_requests = []\n",
    "\n",
    "for ticket_no in tqdm(tickets): \n",
    "    pull_request_ids += search_for_pull_requests(ticket_no)\n",
    "\n",
    "pull_request_ids = list(set(pull_request_ids))\n",
    "\n",
    "for pr_id in tqdm(pull_request_ids):\n",
    "    pull_requests.append(get_pull_request(pr_id))\n",
    "\n",
    "print(\"Pull requests:\", len(pull_requests))"
   ]
  },
  {
   "cell_type": "markdown",
   "id": "f59c847c",
   "metadata": {},
   "source": [
    "For all these pull requests, we need to get the comments associated.  "
   ]
  },
  {
   "cell_type": "code",
   "execution_count": 16,
   "id": "dfe2390c",
   "metadata": {},
   "outputs": [
    {
     "data": {
      "application/vnd.jupyter.widget-view+json": {
       "model_id": "27d594e90220474099cc5cb44196b1bd",
       "version_major": 2,
       "version_minor": 0
      },
      "text/plain": [
       "  0%|          | 0/756 [00:00<?, ?it/s]"
      ]
     },
     "metadata": {},
     "output_type": "display_data"
    },
    {
     "name": "stdout",
     "output_type": "stream",
     "text": [
      "Pull Request Comments: 6263\n"
     ]
    }
   ],
   "source": [
    "def get_comments_from_pull_request(pull_request_id):\n",
    "    comments = []\n",
    "\n",
    "    # Comments\n",
    "    data = github_api(f\"/repos/django/django/pulls/{pull_request_id}/comments\")\n",
    "\n",
    "    for record in data:\n",
    "        comments.append(\n",
    "            {\n",
    "                \"user\": record[\"user\"][\"login\"],\n",
    "                \"commit_id\": record[\"commit_id\"],\n",
    "                \"message\": record[\"body\"],\n",
    "                \"pull_request\": pull_request_id\n",
    "            }\n",
    "        )\n",
    "\n",
    "    # Review Comments\n",
    "    data = github_api(f\"/repos/django/django/issues/{pull_request_id}/comments\")\n",
    "\n",
    "    for record in data:\n",
    "        comments.append(\n",
    "            {\n",
    "                \"user\": record[\"user\"][\"login\"],\n",
    "                \"commit_id\": None,\n",
    "                \"message\": record[\"body\"],\n",
    "                \"pull_request\": pull_request_id,\n",
    "            }\n",
    "        )\n",
    "\n",
    "    return comments\n",
    "\n",
    "pr_comments = []\n",
    "\n",
    "for request in tqdm(pull_requests):\n",
    "    pr_comments += get_comments_from_pull_request(request[\"id\"])\n",
    "\n",
    "print(\"Pull Request Comments:\", len(pr_comments))\n"
   ]
  },
  {
   "cell_type": "markdown",
   "id": "52397210",
   "metadata": {},
   "source": [
    "Now, we have all the data we need to start analysing. \n",
    "\n",
    "---"
   ]
  },
  {
   "cell_type": "markdown",
   "id": "ce37cf64",
   "metadata": {},
   "source": [
    "# Analysis <a class=\"anchor\" id=\"analysis\"></a>\n",
    " \n",
    " \n",
    "Our analysis is going to be based on our [assumptions](#assumptions). \n",
    "\n",
    "TODO\n",
    "\n",
    "https://github.com/cncf/devstats/blob/master/README_K8s.md \"Contribution: a review, comment, commit, issue or PR\""
   ]
  },
  {
   "cell_type": "markdown",
   "id": "c55089cf",
   "metadata": {},
   "source": [
    "To get started, we'll setup pandas"
   ]
  },
  {
   "cell_type": "code",
   "execution_count": 20,
   "id": "fff377d9",
   "metadata": {},
   "outputs": [],
   "source": [
    "%%capture\n",
    "import sys\n",
    "!{sys.executable} -m pip install pandas"
   ]
  },
  {
   "cell_type": "markdown",
   "id": "d2ce8ebd",
   "metadata": {},
   "source": [
    "and convert our lists to DataFrames"
   ]
  },
  {
   "cell_type": "code",
   "execution_count": 21,
   "id": "dee1b489",
   "metadata": {},
   "outputs": [
    {
     "name": "stdout",
     "output_type": "stream",
     "text": [
      "Git Commit keys: django_version, commit_sha, datetime, author, author_email, committer, committer_email, message\n",
      "Pull Request keys: id, state, user\n",
      "Pull Request Comments keys: user, commit_id, message, pull_request\n",
      "Trac Ticket keys: ticket_id, status, reporter, resolution, description\n",
      "Trac Ticket Comments keys: ticket_id, datetime, name, change_type, old_value, new_value\n"
     ]
    }
   ],
   "source": [
    "import pandas as pd\n",
    "\n",
    "git_commits_df = pd.DataFrame(git_commits)\n",
    "print(\"Git Commit keys:\", \", \".join(list(git_commits_df.keys())))\n",
    "\n",
    "git_trac_links_df = pd.DataFrame(git_trac_links)\n",
    "pull_requests_df = pd.DataFrame(pull_requests)\n",
    "print(\"Pull Request keys:\", \", \".join(list(pull_requests_df.keys())))\n",
    "pull_request_comments_df = pd.DataFrame(pr_comments)\n",
    "print(\"Pull Request Comments keys:\", \", \".join(list(pull_request_comments_df.keys())))\n",
    "trac_tickets_df = pd.DataFrame(trac_tickets)\n",
    "print(\"Trac Ticket keys:\", \", \".join(list(trac_tickets_df.keys())))\n",
    "trac_ticket_comments_df = pd.DataFrame(trac_ticket_comments)\n",
    "print(\"Trac Ticket Comments keys:\", \", \".join(list(trac_ticket_comments_df.keys())))"
   ]
  },
  {
   "cell_type": "markdown",
   "id": "6b777345",
   "metadata": {},
   "source": [
    "For starters, who are our Git Commit Authors:"
   ]
  },
  {
   "cell_type": "code",
   "execution_count": 22,
   "id": "cb85f38e",
   "metadata": {},
   "outputs": [
    {
     "data": {
      "text/plain": [
       "Mariusz Felisiak    205\n",
       "Carlton Gibson       60\n",
       "Adam Johnson         40\n",
       "David Smith          25\n",
       "Jacob Walls          24\n",
       "                   ... \n",
       "Sage Abdullah         1\n",
       "Biel Frontera         1\n",
       "David Sanders         1\n",
       "Adrian Torres         1\n",
       "Cleiton Lima          1\n",
       "Name: author, Length: 213, dtype: int64"
      ]
     },
     "execution_count": 22,
     "metadata": {},
     "output_type": "execute_result"
    }
   ],
   "source": [
    "git_commits_df.author.value_counts()"
   ]
  },
  {
   "cell_type": "markdown",
   "id": "14b8ff30",
   "metadata": {},
   "source": [
    "And who are our Pull Request Authors:"
   ]
  },
  {
   "cell_type": "code",
   "execution_count": 23,
   "id": "41bf72bb",
   "metadata": {
    "scrolled": false
   },
   "outputs": [
    {
     "data": {
      "text/plain": [
       "felixxm            145\n",
       "smithdc1            37\n",
       "carltongibson       36\n",
       "claudep             27\n",
       "jacobtylerwalls     20\n",
       "                  ... \n",
       "ChihSeanHsu          1\n",
       "vishalpandeyvip      1\n",
       "alvaromlg            1\n",
       "omerfarukabaci       1\n",
       "mzjp2                1\n",
       "Name: user, Length: 245, dtype: int64"
      ]
     },
     "execution_count": 23,
     "metadata": {},
     "output_type": "execute_result"
    }
   ],
   "source": [
    "pull_requests_df.user.value_counts()"
   ]
  },
  {
   "cell_type": "markdown",
   "id": "24c4c94d",
   "metadata": {},
   "source": [
    "This is where things start to break, because we have Names and Aliases. "
   ]
  },
  {
   "cell_type": "code",
   "execution_count": 24,
   "id": "6f16ec25",
   "metadata": {},
   "outputs": [
    {
     "data": {
      "application/vnd.jupyter.widget-view+json": {
       "model_id": "619b547f3d4b47e8ae88d6062df4480b",
       "version_major": 2,
       "version_minor": 0
      },
      "text/plain": [
       "  0%|          | 0/245 [00:00<?, ?it/s]"
      ]
     },
     "metadata": {},
     "output_type": "display_data"
    },
    {
     "name": "stdout",
     "output_type": "stream",
     "text": [
      "GitHub users: 245\n",
      "GitHub keys: Index(['login', 'name'], dtype='object')\n"
     ]
    }
   ],
   "source": [
    "github_users = []\n",
    "\n",
    "def get_github_user(user):\n",
    "    data = github_api(f\"/users/{user}\")\n",
    "    return {\"login\": data[\"login\"], \n",
    "           \"name\": data[\"name\"]}\n",
    "\n",
    "    \n",
    "for user in tqdm(list(pull_requests_df.user.unique())):\n",
    "    github_users.append(get_github_user(user))\n",
    "\n",
    "print(\"GitHub users:\", len(github_users))\n",
    "github_users_df = pd.DataFrame(github_users)\n",
    "print(\"GitHub keys:\", github_users_df.keys())"
   ]
  },
  {
   "cell_type": "markdown",
   "id": "bf1923a7",
   "metadata": {},
   "source": [
    "Then, we can start mapping things together."
   ]
  },
  {
   "cell_type": "code",
   "execution_count": 25,
   "id": "9d44bef4",
   "metadata": {},
   "outputs": [
    {
     "data": {
      "text/plain": [
       "felixxm          2163\n",
       "carltongibson     493\n",
       "ngnpope           291\n",
       "smithdc1          239\n",
       "timgraham         214\n",
       "                 ... \n",
       "n2ygk               1\n",
       "flaeppe             1\n",
       "luzfcb              1\n",
       "pifantastic         1\n",
       "mzjp2               1\n",
       "Name: user, Length: 321, dtype: int64"
      ]
     },
     "execution_count": 25,
     "metadata": {},
     "output_type": "execute_result"
    }
   ],
   "source": [
    "pull_request_comments_df.user.value_counts()"
   ]
  },
  {
   "cell_type": "markdown",
   "id": "8a65690f",
   "metadata": {},
   "source": [
    "TODO\n",
    "\n",
    "Let's take an example user, and check all their contributions: "
   ]
  },
  {
   "cell_type": "code",
   "execution_count": 34,
   "id": "9049d203",
   "metadata": {},
   "outputs": [
    {
     "name": "stdout",
     "output_type": "stream",
     "text": [
      "## Data for glasnt (glasnt)\n",
      "\n",
      "Git Commits: 0\n",
      "\n",
      "Pull Requests Authored: 0\n",
      "\n",
      "Pull Request comments: 4\n",
      "      pull_request                                            message\n",
      "3180          9071  Could we provide an example of how this would ...\n",
      "3181          9071                          s/forms, that/forms that/\n",
      "3182          9071                                I like this analogy\n",
      "3183          9071  `s/(note that this/(Note: this/` I think would...\n",
      "\n",
      "Trac Ticket comments: 0\n"
     ]
    }
   ],
   "source": [
    "def user_contributions(user): \n",
    "    def dooutput(msg, df): \n",
    "        print(\"\\n\" + msg + \":\", len(df))\n",
    "        if len(df) < 10 and len(df) > 0: \n",
    "            print(df)\n",
    "    \n",
    "    \n",
    "    name = user \n",
    "    mapping = github_users_df[github_users_df[\"login\"]==user]\n",
    "    if len(mapping) > 0: #.any(): \n",
    "        name = mapping[\"name\"].item()\n",
    "    \n",
    "    print(f\"## Data for {user} ({name})\")\n",
    "    \n",
    "    gcs = git_commits_df[git_commits_df[\"author\"].isin([name])][[\"author\", \"message\"]]\n",
    "    dooutput(\"Git Commits\", gcs)\n",
    "          \n",
    "    prs = pull_requests_df[pull_requests_df[\"user\"].isin([user])]\n",
    "    dooutput(\"Pull Requests Authored\", prs)\n",
    "    \n",
    "    prcs = pull_request_comments_df[pull_request_comments_df[\"user\"].isin([user])][[\"pull_request\", \"message\"]]\n",
    "    dooutput(\"Pull Request comments\", prcs)\n",
    "    \n",
    "    ttcs = trac_ticket_comments_df[trac_ticket_comments_df[\"name\"].isin([user])][[\"ticket_id\", \"change_type\"]]\n",
    "    dooutput(\"Trac Ticket comments\", ttcs)\n",
    "    \n",
    "user_contributions(\"glasnt\")"
   ]
  },
  {
   "cell_type": "markdown",
   "id": "4fa3341a",
   "metadata": {},
   "source": [
    "So let's expand on this: getting a list of all users and their total number of interactions. "
   ]
  },
  {
   "cell_type": "code",
   "execution_count": 31,
   "id": "59ff1213",
   "metadata": {},
   "outputs": [
    {
     "data": {
      "text/plain": [
       "Mariusz Felisiak    205\n",
       "Carlton Gibson       60\n",
       "Adam Johnson         40\n",
       "David Smith          25\n",
       "Jacob Walls          24\n",
       "                   ... \n",
       "Sage Abdullah         1\n",
       "Biel Frontera         1\n",
       "David Sanders         1\n",
       "Adrian Torres         1\n",
       "Cleiton Lima          1\n",
       "Name: author, Length: 213, dtype: int64"
      ]
     },
     "execution_count": 31,
     "metadata": {},
     "output_type": "execute_result"
    }
   ],
   "source": [
    "pull_requests_df.user.value_counts()\n",
    "pull_request_comments_df.user.value_counts()\n",
    "git_commits_df.author.value_counts()\n",
    "trac_ticket_comments_df.name.value_counts()"
   ]
  },
  {
   "cell_type": "code",
   "execution_count": null,
   "id": "cbba4874",
   "metadata": {},
   "outputs": [],
   "source": []
  },
  {
   "cell_type": "markdown",
   "id": "2b31aebf",
   "metadata": {},
   "source": [
    "## Security Thanks\n",
    "\n",
    "Another dataset we need to add in is security acknowledgements. \n",
    "\n",
    "Security reports are [separate to tickets](https://docs.djangoproject.com/en/dev/internals/security/), and thus don't follow the normal git flow. They are handled by the security team, and [credit is given separately](https://twitter.com/carltongibson/status/1588455611049676800).\n",
    "\n",
    "So, we need to manually search for that credit. "
   ]
  },
  {
   "cell_type": "code",
   "execution_count": 42,
   "id": "d4dd181a",
   "metadata": {
    "scrolled": true
   },
   "outputs": [
    {
     "data": {
      "text/html": [
       "<div>\n",
       "<style scoped>\n",
       "    .dataframe tbody tr th:only-of-type {\n",
       "        vertical-align: middle;\n",
       "    }\n",
       "\n",
       "    .dataframe tbody tr th {\n",
       "        vertical-align: top;\n",
       "    }\n",
       "\n",
       "    .dataframe thead th {\n",
       "        text-align: right;\n",
       "    }\n",
       "</style>\n",
       "<table border=\"1\" class=\"dataframe\">\n",
       "  <thead>\n",
       "    <tr style=\"text-align: right;\">\n",
       "      <th></th>\n",
       "      <th>author</th>\n",
       "      <th>message</th>\n",
       "    </tr>\n",
       "  </thead>\n",
       "  <tbody>\n",
       "    <tr>\n",
       "      <th>3</th>\n",
       "      <td>Carlton Gibson</td>\n",
       "      <td>[4.1.x] Fixed CVE-2022-36359 -- Escaped filename in Content-Disposition header.\\n\\nThanks to Motoyasu Saburi for the report.\\n</td>\n",
       "    </tr>\n",
       "    <tr>\n",
       "      <th>6</th>\n",
       "      <td>Carlton Gibson</td>\n",
       "      <td>[4.1.x] Doc'd TextField.db_collation as optional.\\n\\nMatches CharField.db_collation docs.\\n\\nThanks to Paolo Melchiorre for the report.\\n\\nBackport of 5028a02352cb1fe3e64d63a614912ef694838862 from main\\n</td>\n",
       "    </tr>\n",
       "    <tr>\n",
       "      <th>7</th>\n",
       "      <td>Carlton Gibson</td>\n",
       "      <td>[4.1.x] Fixed #33876, Refs #32229 -- Made management forms render with div.html template.\\n\\nThanks to Claude Paroz for the report.\\n\\nBackport of 89e695a69b16b8c0e720169b3ca4852cfd0c485f from main\\n</td>\n",
       "    </tr>\n",
       "    <tr>\n",
       "      <th>14</th>\n",
       "      <td>Mariusz Felisiak</td>\n",
       "      <td>[4.1.x] Fixed #33820 -- Doc'd \"true\"/\"false\"/\"null\" caveat for JSONField key transforms on SQLite.\\n\\nThanks Johnny Metz for the report.\\n\\nRegression in 71ec102b01fcc85acae3819426a4e02ef423b0fa.\\nBackport of e20e5d1557785ba71e8ef0ceb8ccb85bdc13840a from main\\n</td>\n",
       "    </tr>\n",
       "    <tr>\n",
       "      <th>24</th>\n",
       "      <td>Shawn Dong</td>\n",
       "      <td>[4.1.x] Fixed #33822 -- Fixed save() crash on model formsets when not created by modelformset_factory().\\n\\nThanks Claude Paroz for the report.\\n\\nRegression in e87f57fdb8dcdabc452bd15abd015bf6c9b1f7a8.\\n\\nBackport of 18c5ba07cc81be993941ecc2ecc17923b401b66f from main\\n</td>\n",
       "    </tr>\n",
       "    <tr>\n",
       "      <th>...</th>\n",
       "      <td>...</td>\n",
       "      <td>...</td>\n",
       "    </tr>\n",
       "    <tr>\n",
       "      <th>778</th>\n",
       "      <td>Mariusz Felisiak</td>\n",
       "      <td>Fixed #33159 -- Reverted \"Fixed #32970 -- Changed WhereNode.clone() to create a shallow copy of children.\"\\n\\nThis reverts commit e441847ecae99dd1ccd0d9ce76dbcff51afa863c.\\r\\n\\r\\nA shallow copy is not enough because querysets can be reused and\\r\\nevaluated in nested nodes, which shouldn't mutate JOIN aliases.\\r\\n\\r\\nThanks Michal Čihař for the report.</td>\n",
       "    </tr>\n",
       "    <tr>\n",
       "      <th>779</th>\n",
       "      <td>David Wobrock</td>\n",
       "      <td>Fixed #33018 -- Fixed annotations with empty queryset.\\n\\nThanks Simon Charette for the review and implementation idea.\\n</td>\n",
       "    </tr>\n",
       "    <tr>\n",
       "      <th>791</th>\n",
       "      <td>ali</td>\n",
       "      <td>Fixed #33114 -- Defined default output_field of StringAgg.\\n\\nThanks Simon Charette for the review.\\n</td>\n",
       "    </tr>\n",
       "    <tr>\n",
       "      <th>797</th>\n",
       "      <td>Carlton Gibson</td>\n",
       "      <td>Refs #33129 -- Added missing return statement.\\n\\nThanks to Claude Paroz for spotting it.\\n\\nRegression in 221b2f85febcf68629fc3a4007dc7edb5a305b91.\\n</td>\n",
       "    </tr>\n",
       "    <tr>\n",
       "      <th>809</th>\n",
       "      <td>Carlton Gibson</td>\n",
       "      <td>Fixed #33083 -- Fixed selecting all items in the admin changelist when actions are both top and bottom.\\n\\nThanks Benjamin Locher for the report.\\r\\n\\r\\nRegression in 30e59705fc3e3e9e8370b965af794ad6173bf92b.</td>\n",
       "    </tr>\n",
       "  </tbody>\n",
       "</table>\n",
       "<p>83 rows × 2 columns</p>\n",
       "</div>"
      ],
      "text/plain": [
       "               author  \\\n",
       "3      Carlton Gibson   \n",
       "6      Carlton Gibson   \n",
       "7      Carlton Gibson   \n",
       "14   Mariusz Felisiak   \n",
       "24         Shawn Dong   \n",
       "..                ...   \n",
       "778  Mariusz Felisiak   \n",
       "779     David Wobrock   \n",
       "791               ali   \n",
       "797    Carlton Gibson   \n",
       "809    Carlton Gibson   \n",
       "\n",
       "                                                                                                                                                                                                                                                                                                                                                               message  \n",
       "3                                                                                                                                                                                                                                       [4.1.x] Fixed CVE-2022-36359 -- Escaped filename in Content-Disposition header.\\n\\nThanks to Motoyasu Saburi for the report.\\n  \n",
       "6                                                                                                                                                          [4.1.x] Doc'd TextField.db_collation as optional.\\n\\nMatches CharField.db_collation docs.\\n\\nThanks to Paolo Melchiorre for the report.\\n\\nBackport of 5028a02352cb1fe3e64d63a614912ef694838862 from main\\n  \n",
       "7                                                                                                                                                              [4.1.x] Fixed #33876, Refs #32229 -- Made management forms render with div.html template.\\n\\nThanks to Claude Paroz for the report.\\n\\nBackport of 89e695a69b16b8c0e720169b3ca4852cfd0c485f from main\\n  \n",
       "14                                                                                               [4.1.x] Fixed #33820 -- Doc'd \"true\"/\"false\"/\"null\" caveat for JSONField key transforms on SQLite.\\n\\nThanks Johnny Metz for the report.\\n\\nRegression in 71ec102b01fcc85acae3819426a4e02ef423b0fa.\\nBackport of e20e5d1557785ba71e8ef0ceb8ccb85bdc13840a from main\\n  \n",
       "24                                                                                      [4.1.x] Fixed #33822 -- Fixed save() crash on model formsets when not created by modelformset_factory().\\n\\nThanks Claude Paroz for the report.\\n\\nRegression in e87f57fdb8dcdabc452bd15abd015bf6c9b1f7a8.\\n\\nBackport of 18c5ba07cc81be993941ecc2ecc17923b401b66f from main\\n  \n",
       "..                                                                                                                                                                                                                                                                                                                                                                 ...  \n",
       "778  Fixed #33159 -- Reverted \"Fixed #32970 -- Changed WhereNode.clone() to create a shallow copy of children.\"\\n\\nThis reverts commit e441847ecae99dd1ccd0d9ce76dbcff51afa863c.\\r\\n\\r\\nA shallow copy is not enough because querysets can be reused and\\r\\nevaluated in nested nodes, which shouldn't mutate JOIN aliases.\\r\\n\\r\\nThanks Michal Čihař for the report.  \n",
       "779                                                                                                                                                                                                                                          Fixed #33018 -- Fixed annotations with empty queryset.\\n\\nThanks Simon Charette for the review and implementation idea.\\n  \n",
       "791                                                                                                                                                                                                                                                              Fixed #33114 -- Defined default output_field of StringAgg.\\n\\nThanks Simon Charette for the review.\\n  \n",
       "797                                                                                                                                                                                                             Refs #33129 -- Added missing return statement.\\n\\nThanks to Claude Paroz for spotting it.\\n\\nRegression in 221b2f85febcf68629fc3a4007dc7edb5a305b91.\\n  \n",
       "809                                                                                                                                                   Fixed #33083 -- Fixed selecting all items in the admin changelist when actions are both top and bottom.\\n\\nThanks Benjamin Locher for the report.\\r\\n\\r\\nRegression in 30e59705fc3e3e9e8370b965af794ad6173bf92b.  \n",
       "\n",
       "[83 rows x 2 columns]"
      ]
     },
     "execution_count": 42,
     "metadata": {},
     "output_type": "execute_result"
    }
   ],
   "source": [
    "pd.set_option('display.max_colwidth', None)\n",
    "git_commits_df[git_commits_df.message.str.contains(\"Thanks\")][[\"author\", \"message\"]]"
   ]
  },
  {
   "cell_type": "markdown",
   "id": "a22e8baf",
   "metadata": {},
   "source": [
    "From here, let's isolate those thanks mentions (shout out to [https://pythex.org/](https://pythex.org/)!"
   ]
  },
  {
   "cell_type": "code",
   "execution_count": 89,
   "id": "afc7da08",
   "metadata": {},
   "outputs": [
    {
     "data": {
      "text/html": [
       "<div>\n",
       "<style scoped>\n",
       "    .dataframe tbody tr th:only-of-type {\n",
       "        vertical-align: middle;\n",
       "    }\n",
       "\n",
       "    .dataframe tbody tr th {\n",
       "        vertical-align: top;\n",
       "    }\n",
       "\n",
       "    .dataframe thead th {\n",
       "        text-align: right;\n",
       "    }\n",
       "</style>\n",
       "<table border=\"1\" class=\"dataframe\">\n",
       "  <thead>\n",
       "    <tr style=\"text-align: right;\">\n",
       "      <th></th>\n",
       "      <th>0</th>\n",
       "    </tr>\n",
       "  </thead>\n",
       "  <tbody>\n",
       "    <tr>\n",
       "      <th>3</th>\n",
       "      <td>to Motoyasu Saburi</td>\n",
       "    </tr>\n",
       "    <tr>\n",
       "      <th>6</th>\n",
       "      <td>to Paolo Melchiorre</td>\n",
       "    </tr>\n",
       "    <tr>\n",
       "      <th>7</th>\n",
       "      <td>to Claude Paroz</td>\n",
       "    </tr>\n",
       "    <tr>\n",
       "      <th>14</th>\n",
       "      <td>Johnny Metz</td>\n",
       "    </tr>\n",
       "    <tr>\n",
       "      <th>24</th>\n",
       "      <td>Claude Paroz</td>\n",
       "    </tr>\n",
       "    <tr>\n",
       "      <th>...</th>\n",
       "      <td>...</td>\n",
       "    </tr>\n",
       "    <tr>\n",
       "      <th>744</th>\n",
       "      <td>Lucidot for the report and Mariusz Felisiak</td>\n",
       "    </tr>\n",
       "    <tr>\n",
       "      <th>779</th>\n",
       "      <td>Simon Charette</td>\n",
       "    </tr>\n",
       "    <tr>\n",
       "      <th>791</th>\n",
       "      <td>Simon Charette</td>\n",
       "    </tr>\n",
       "    <tr>\n",
       "      <th>797</th>\n",
       "      <td>to Claude Paroz</td>\n",
       "    </tr>\n",
       "    <tr>\n",
       "      <th>809</th>\n",
       "      <td>Benjamin Locher</td>\n",
       "    </tr>\n",
       "  </tbody>\n",
       "</table>\n",
       "<p>67 rows × 1 columns</p>\n",
       "</div>"
      ],
      "text/plain": [
       "                                               0\n",
       "3                             to Motoyasu Saburi\n",
       "6                            to Paolo Melchiorre\n",
       "7                                to Claude Paroz\n",
       "14                                   Johnny Metz\n",
       "24                                  Claude Paroz\n",
       "..                                           ...\n",
       "744  Lucidot for the report and Mariusz Felisiak\n",
       "779                               Simon Charette\n",
       "791                               Simon Charette\n",
       "797                              to Claude Paroz\n",
       "809                              Benjamin Locher\n",
       "\n",
       "[67 rows x 1 columns]"
      ]
     },
     "execution_count": 89,
     "metadata": {},
     "output_type": "execute_result"
    }
   ],
   "source": [
    "git_commits_df.message.str.extract(r'Thanks ([a-zA-Z ]+) for').dropna()"
   ]
  },
  {
   "cell_type": "markdown",
   "id": "82bc2f4d",
   "metadata": {},
   "source": [
    "The problem you're seeing here is that we're dropping records: "
   ]
  },
  {
   "cell_type": "code",
   "execution_count": 64,
   "id": "72c519d6",
   "metadata": {},
   "outputs": [
    {
     "name": "stdout",
     "output_type": "stream",
     "text": [
      "Compare: contains has 83 and extracts has 67\n",
      "Do they match? False\n"
     ]
    }
   ],
   "source": [
    "contains_records = len(git_commits_df[git_commits_df.message.str.contains(\"Thanks\")][[\"author\", \"message\"]])\n",
    "extracts_records = len(git_commits_df.message.str.extract(r'Thanks ([a-zA-Z ]+) for').dropna())\n",
    "\n",
    "print(\"Compare: contains has\", contains_records, \"and extracts has\", extracts_records)\n",
    "print(\"Do they match?\", contains_records == extracts_records)\n"
   ]
  },
  {
   "cell_type": "markdown",
   "id": "fda233c0",
   "metadata": {},
   "source": [
    "The issue here is that there are some users with non-alpha characters in their names. "
   ]
  },
  {
   "cell_type": "code",
   "execution_count": 87,
   "id": "eb78f284",
   "metadata": {},
   "outputs": [
    {
     "name": "stdout",
     "output_type": "stream",
     "text": [
      "778    Fixed #33159 -- Reverted \"Fixed #32970 -- Changed WhereNode.clone() to create a shallow copy of children.\"\\n\\nThis reverts commit e441847ecae99dd1ccd0d9ce76dbcff51afa863c.\\r\\n\\r\\nA shallow copy is not enough because querysets can be reused and\\r\\nevaluated in nested nodes, which shouldn't mutate JOIN aliases.\\r\\n\\r\\nThanks Michal Čihař for the report.\n",
      "Name: message, dtype: object\n"
     ]
    }
   ],
   "source": [
    "example_user = \"Michal\"\n",
    "example_commits = git_commits_df[git_commits_df.message.str.contains(example_user).dropna()][\"message\"]\n",
    "print(example_commits)"
   ]
  },
  {
   "cell_type": "markdown",
   "id": "cf87c9fe",
   "metadata": {},
   "source": [
    "So we need to make sure we're using better regex."
   ]
  },
  {
   "cell_type": "code",
   "execution_count": 112,
   "id": "d11665d6",
   "metadata": {},
   "outputs": [
    {
     "name": "stdout",
     "output_type": "stream",
     "text": [
      "                       0\n",
      "3     to Motoyasu Saburi\n",
      "6    to Paolo Melchiorre\n",
      "7        to Claude Paroz\n",
      "14           Johnny Metz\n",
      "24          Claude Paroz\n",
      "..                   ...\n",
      "778         Michal Čihař\n",
      "779       Simon Charette\n",
      "791       Simon Charette\n",
      "797      to Claude Paroz\n",
      "809      Benjamin Locher\n",
      "\n",
      "[74 rows x 1 columns]\n",
      "Do they match? False\n"
     ]
    }
   ],
   "source": [
    "w_filter = git_commits_df.message.str.extract(r'Thanks ([\\w ]+) for').dropna()\n",
    "print(w_filter)\n",
    "print(\"Do they match?\", contains_records == len(w_filter))"
   ]
  },
  {
   "cell_type": "markdown",
   "id": "911793e7",
   "metadata": {},
   "source": [
    "But even then we're missing some! Such as: \n",
    "\n"
   ]
  },
  {
   "cell_type": "code",
   "execution_count": 102,
   "id": "871f4072",
   "metadata": {},
   "outputs": [
    {
     "data": {
      "text/html": [
       "<div>\n",
       "<style scoped>\n",
       "    .dataframe tbody tr th:only-of-type {\n",
       "        vertical-align: middle;\n",
       "    }\n",
       "\n",
       "    .dataframe tbody tr th {\n",
       "        vertical-align: top;\n",
       "    }\n",
       "\n",
       "    .dataframe thead th {\n",
       "        text-align: right;\n",
       "    }\n",
       "</style>\n",
       "<table border=\"1\" class=\"dataframe\">\n",
       "  <thead>\n",
       "    <tr style=\"text-align: right;\">\n",
       "      <th></th>\n",
       "      <th>author</th>\n",
       "      <th>message</th>\n",
       "    </tr>\n",
       "  </thead>\n",
       "  <tbody>\n",
       "    <tr>\n",
       "      <th>202</th>\n",
       "      <td>Mariusz Felisiak</td>\n",
       "      <td>Fixed CVE-2022-28346 -- Protected QuerySet.annotate(), aggregate(), and extra() against SQL injection in column aliases.\\n\\nThanks Splunk team: Preston Elder, Jacob Davis, Jacob Moore,\\nMatt Hanson, David Briggs, and a security researcher: Danylo Dmytriiev\\n(DDV_UA) for the report.\\n</td>\n",
       "    </tr>\n",
       "  </tbody>\n",
       "</table>\n",
       "</div>"
      ],
      "text/plain": [
       "               author  \\\n",
       "202  Mariusz Felisiak   \n",
       "\n",
       "                                                                                                                                                                                                                                                                                          message  \n",
       "202  Fixed CVE-2022-28346 -- Protected QuerySet.annotate(), aggregate(), and extra() against SQL injection in column aliases.\\n\\nThanks Splunk team: Preston Elder, Jacob Davis, Jacob Moore,\\nMatt Hanson, David Briggs, and a security researcher: Danylo Dmytriiev\\n(DDV_UA) for the report.\\n  "
      ]
     },
     "execution_count": 102,
     "metadata": {},
     "output_type": "execute_result"
    }
   ],
   "source": [
    "git_commits_df[git_commits_df.message.str.contains(\"Splunk\")][[\"author\", \"message\"]]"
   ]
  },
  {
   "cell_type": "markdown",
   "id": "2ebeb8f6",
   "metadata": {},
   "source": [
    "So let's just open it up to any character. "
   ]
  },
  {
   "cell_type": "code",
   "execution_count": 113,
   "id": "890ba457",
   "metadata": {},
   "outputs": [
    {
     "name": "stdout",
     "output_type": "stream",
     "text": [
      "                       0\n",
      "3     to Motoyasu Saburi\n",
      "6    to Paolo Melchiorre\n",
      "7        to Claude Paroz\n",
      "14           Johnny Metz\n",
      "24          Claude Paroz\n",
      "..                   ...\n",
      "778         Michal Čihař\n",
      "779       Simon Charette\n",
      "791       Simon Charette\n",
      "797      to Claude Paroz\n",
      "809      Benjamin Locher\n",
      "\n",
      "[80 rows x 1 columns]\n",
      "Do they match? False\n"
     ]
    }
   ],
   "source": [
    "dot_filter = git_commits_df.message.str.extract(r'Thanks (.*) for').dropna()\n",
    "\n",
    "print(dot_filter)\n",
    "print(\"Do they match?\", contains_records == len(dot_filter))"
   ]
  },
  {
   "cell_type": "markdown",
   "id": "e6ef986b",
   "metadata": {},
   "source": [
    "But then we're still missing some!\n",
    "\n",
    "😨\n",
    "\n",
    "So let's just do it manually. "
   ]
  },
  {
   "cell_type": "code",
   "execution_count": 165,
   "id": "5234c733",
   "metadata": {},
   "outputs": [
    {
     "name": "stdout",
     "output_type": "stream",
     "text": [
      "Messages to parse: 83\n",
      "Motoyasu Saburi\n",
      "Paolo Melchiorre\n",
      "Claude Paroz\n",
      "Johnny Metz\n",
      "Claude Paroz\n",
      "TakuYoshikai (Aeye Security Lab)\n",
      "Shai Berger\n",
      "Claude Paroz\n",
      "Paul in 't Hout\n",
      "Simon Charette\n",
      "אורי\n",
      "Pēteris Caune\n",
      "Florian Apolloner\n",
      "Simon Charette\n",
      "Ben Picolo\n",
      "Allen Jonathan David\n",
      "Simon Charette\n",
      "['Simon Charette', ' Keryn Knight', ' and Mariusz Felisiak']\n",
      "David Smith\n",
      "Mariusz Felisiak\n",
      "Rick Yang and Baptiste Mispelon\n",
      "Ferran Jovell\n",
      "Simon Charette\n",
      "Jonny Park\n",
      "lind-marcus\n",
      "Florian Apolloner\n",
      "Florian Apolloner\n",
      "David Glenck\n",
      "Tim Graham\n",
      "Chris Lee\n",
      "Sergey Fedoseev\n",
      "Tim McCurrach\n",
      "Tobias Bengfort\n",
      "Florian Apolloner\n",
      "Alan Ryan\n",
      "Keryn Knight\n",
      "Adam Johnson\n",
      "David Smith\n",
      "['Jacob Walls', ' David Smith', ' and Mariusz Felisiak']\n",
      "bcail\n",
      "Keryn Knight\n",
      "['Eugene Kovalev for the initial patch', ' Simon Charette']\n",
      "Sourav Kumar\n",
      "Keryn Knight\n",
      "Matt Westcott\n",
      "Dennis Brinkrolf\n",
      "Dennis Brinkrolf\n",
      "Chris Bailey\n",
      "Alan Crosswell\n",
      "Andrew Chen Wang for the report and Keryn Knight\n",
      "Terence Honles\n",
      "Theodore Ni and Shai Berger\n",
      "Nick Pope\n",
      "Silvio Gutierrez and Baptiste Mispelon\n",
      "OutOfFocus4\n",
      "Sjoerd Job Postmus and TengMA(@te3t123)\n",
      "Hervé Le Roy\n",
      "Adam Zimmerman\n",
      "Antonio Terceiro\n",
      "Florian Apolloner\n",
      "Daniel Swain for the report and Arsalan Ghassemi\n",
      "Florian Apolloner and Shai Berger\n",
      "Tom Carrick\n",
      "Jakob Köhler\n",
      "David Wyde\n",
      "yakimka\n",
      "Simon Charette\n",
      "Hervé Le Roy\n",
      "Joseph Abrahams\n",
      "Mariusz Felisiak\n",
      "Todor Velichkov\n",
      "Kevin Marsh\n",
      "Simon Charette\n",
      "Jacob Walls\n",
      "Simon Charette\n",
      "Lucidot for the report and Mariusz Felisiak\n",
      "Michal Čihař\n",
      "Simon Charette\n",
      "Simon Charette\n",
      "Claude Paroz\n",
      "Benjamin Locher\n",
      "['Fixed CVE-2022-28346 -- Protected QuerySet.annotate(), aggregate(), and extra() against SQL injection in column aliases.\\n\\nThanks Splunk team: Preston Elder, Jacob Davis, Jacob Moore,\\nMatt Hanson, David Briggs, and a security researcher: Danylo Dmytriiev\\n(DDV_UA) for the report.\\n', 'Fixed #28889 -- Prevented double submission of admin forms.\\n\\nAdded a JavaScript confirm() to catch double-submissions, when the\\nchange form has already been submitted.\\n\\nThanks to Adam Johnson, Claude Paroz, Keryn Knight, and Thibaud Colas\\nfor review.\\n', 'Fixed #31685 -- Added support for updating conflicts to QuerySet.bulk_create().\\n\\nThanks Florian Apolloner, Chris Jerdonek, Hannes Ljungberg, Nick Pope,\\nand Mariusz Felisiak for reviews.\\n']\n",
      "2\n",
      "Do they match? False\n"
     ]
    }
   ],
   "source": [
    "def flatten(l): \n",
    "    return [item for sublist in l for item in sublist]\n",
    "\n",
    "thanks_messages = git_commits_df[git_commits_df.message.str.contains(\"Thanks\")][\"message\"].values.tolist()\n",
    "\n",
    "print(\"Messages to parse:\", len(thanks_messages))\n",
    "thanks = []\n",
    "complex_thanks = []\n",
    "\n",
    "for msg in thanks_messages: \n",
    "    found = False\n",
    "    thanks = re.findall(\"Thanks (.*) for\", msg)\n",
    "    if not thanks:\n",
    "        complex_thanks.append(msg)\n",
    "        continue\n",
    "    for thank in thanks:\n",
    "        thank = thank.replace(\"to \", \"\")\n",
    "        if \",\" in thank:\n",
    "            thank = thank.split(\",\")\n",
    "        print(thank)\n",
    "\n",
    "# TODO BETTER PARSING\n",
    "        \n",
    "print(complex_thanks)\n",
    "    \n",
    "thanks.append(complex_thanks)\n",
    "    \n",
    "print(len(thanks))\n",
    "print(\"Do they match?\", contains_records == len(thanks))\n"
   ]
  },
  {
   "cell_type": "code",
   "execution_count": null,
   "id": "48ea1c16",
   "metadata": {},
   "outputs": [],
   "source": []
  }
 ],
 "metadata": {
  "kernelspec": {
   "display_name": "Python 3 (ipykernel)",
   "language": "python",
   "name": "python3"
  },
  "language_info": {
   "codemirror_mode": {
    "name": "ipython",
    "version": 3
   },
   "file_extension": ".py",
   "mimetype": "text/x-python",
   "name": "python",
   "nbconvert_exporter": "python",
   "pygments_lexer": "ipython3",
   "version": "3.10.6"
  }
 },
 "nbformat": 4,
 "nbformat_minor": 5
}
