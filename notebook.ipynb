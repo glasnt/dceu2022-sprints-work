{
 "cells": [
  {
   "cell_type": "markdown",
   "id": "6c311479",
   "metadata": {},
   "source": [
    "# Django 4.1 Contributors"
   ]
  },
  {
   "cell_type": "markdown",
   "id": "79757480",
   "metadata": {},
   "source": [
    "Skip to: [Scope](#scope), [Assumptions](#assumptions), [Data Gathering](#data-gathering), [Analysis](#analysis).\n",
    "\n",
    "---\n",
    "\n",
    "Who contributed to Django 4.1?\n",
    "\n",
    "This answer should be easy to get, surely, because Django is hosted on GitHub. \n",
    "\n",
    "Well, yes, but more goes into a release of Django than just GitHub. There's also the separate ticketing system, Trac, and translations from Transifex, just to name two of the major systems involved. \n",
    "\n",
    "`django/django` also uses an interesting way of cutting releases, as described in [Carlton's notes](https://noumenal.es/posts/what-is-django-4/zj2/) from when he tried to answer this question. \n",
    "\n",
    "To get a more complete view of the information, we need to get data from a few systems. \n",
    "\n",
    "To start: which version do we want to get the information for? In this case, 4.1. \n",
    "\n",
    "Noting of course that this data may still be in flux as this is still the current minor version, and will still have data changes until it is EOL'd some time in 2023 or there abouts. \n",
    "\n",
    "There's also the information just in the comments themselves: \n",
    "\n",
    "* The author and the committer (not always the same person)\n",
    "* The Trac issue (often in the comment message itself)\n",
    "* Any manual thanks (often in the case of security fixes) as part of the message\n",
    "* Any discussions in attached pull requests. \n",
    "\n",
    "And from there, the Trac data, particularly the discussions in the ticket itself. But here, a ticket may have been opened longer than the release window, so why don't we initially limit this to comments on the ticket since the release was branched off. \n",
    "\n",
    "And also adding the same sort of data about commits in the branch from `django/django-docs-translations`, where the contributors are in the commit itself. \n",
    "\n",
    "---\n"
   ]
  },
  {
   "cell_type": "markdown",
   "id": "b5dc2c5a",
   "metadata": {},
   "source": [
    "## Defining Scope  <a class=\"anchor\" id=\"scope\"></a>"
   ]
  },
  {
   "cell_type": "markdown",
   "id": "9ba257f2",
   "metadata": {},
   "source": [
    "Before we can start analysing, we need to gather the data. \n",
    "\n",
    "Based on the original blog post, we first need to determine the start and stop commit range for the branch in question. \n",
    "\n",
    "To do that, let's get setup: \n",
    "\n",
    " * Clone a local copy of the django repo,"
   ]
  },
  {
   "cell_type": "code",
   "execution_count": 1,
   "id": "ae5de0a7",
   "metadata": {},
   "outputs": [
    {
     "name": "stdout",
     "output_type": "stream",
     "text": [
      "fatal: destination path 'django-codebase' already exists and is not an empty directory.\r\n"
     ]
    }
   ],
   "source": [
    "!git clone https://github.com/django/django django-codebase"
   ]
  },
  {
   "cell_type": "markdown",
   "id": "7e15814d",
   "metadata": {},
   "source": [
    " * Install the `gitPython` package,"
   ]
  },
  {
   "cell_type": "code",
   "execution_count": 2,
   "id": "1e4a35dd",
   "metadata": {
    "scrolled": true
   },
   "outputs": [
    {
     "name": "stdout",
     "output_type": "stream",
     "text": [
      "Requirement already satisfied: GitPython in /Users/glasnt/.pyenv/versions/3.9.9/lib/python3.9/site-packages (3.1.28)\n",
      "Requirement already satisfied: gitdb<5,>=4.0.1 in /Users/glasnt/.pyenv/versions/3.9.9/lib/python3.9/site-packages (from GitPython) (4.0.9)\n",
      "Requirement already satisfied: smmap<6,>=3.0.1 in /Users/glasnt/.pyenv/versions/3.9.9/lib/python3.9/site-packages (from gitdb<5,>=4.0.1->GitPython) (5.0.0)\n",
      "\u001b[33mWARNING: There was an error checking the latest version of pip.\u001b[0m\u001b[33m\n",
      "\u001b[0m"
     ]
    }
   ],
   "source": [
    "import sys\n",
    "!{sys.executable} -m pip install GitPython"
   ]
  },
  {
   "cell_type": "markdown",
   "id": "d0963704",
   "metadata": {},
   "source": [
    " * and set up for analysis"
   ]
  },
  {
   "cell_type": "code",
   "execution_count": 3,
   "id": "daf2d794",
   "metadata": {},
   "outputs": [],
   "source": [
    "from git import Repo\n",
    "repo = Repo(\"django-codebase\")"
   ]
  },
  {
   "cell_type": "markdown",
   "id": "20c85b43",
   "metadata": {},
   "source": [
    "We want to target the 4.1 release: "
   ]
  },
  {
   "cell_type": "code",
   "execution_count": 4,
   "id": "66c1e612",
   "metadata": {},
   "outputs": [],
   "source": [
    "target_release = \"4.1\"\n",
    "previous_release = \"4.0\"  # semver -1"
   ]
  },
  {
   "cell_type": "markdown",
   "id": "9bda36d3",
   "metadata": {},
   "source": [
    "So using Carlton's method, let's get the start and end commits, and the merge commit: "
   ]
  },
  {
   "cell_type": "code",
   "execution_count": 5,
   "id": "6cebd98b",
   "metadata": {},
   "outputs": [],
   "source": [
    "start_commit = repo.commit(previous_release)\n",
    "end_commit = repo.commit(target_release)\n",
    "merge_base = repo.merge_base(start_commit, end_commit)[0]\n",
    "\n",
    "commits = list(repo.iter_commits(str(merge_base) + \"..\" + str(end_commit)))"
   ]
  },
  {
   "cell_type": "markdown",
   "id": "651c98e9",
   "metadata": {},
   "source": [
    "We can check the start and end commits to confirm we're in the right range, and about the right commit number: "
   ]
  },
  {
   "cell_type": "code",
   "execution_count": 6,
   "id": "a438c20e",
   "metadata": {},
   "outputs": [
    {
     "name": "stdout",
     "output_type": "stream",
     "text": [
      "2021-12-07 01:07:32 Mariusz Felisiak [4.0.x] Bumped version for 4.0 release.\n",
      "\n",
      "2022-08-03 01:33:01 Carlton Gibson [4.1.x] Bumped version for 4.0 release.\n",
      "\n",
      "Commit count: 829\n"
     ]
    }
   ],
   "source": [
    "from datetime import datetime\n",
    "\n",
    "for commit in [start_commit, end_commit]: \n",
    "    print(datetime.fromtimestamp(commit.authored_date), commit.author, commit.message)\n",
    "    \n",
    "print(\"Commit count:\", len(commits))"
   ]
  },
  {
   "cell_type": "markdown",
   "id": "3189d6fe",
   "metadata": {},
   "source": [
    "This looks about right. "
   ]
  },
  {
   "cell_type": "markdown",
   "id": "80717a02",
   "metadata": {},
   "source": [
    "---\n"
   ]
  },
  {
   "cell_type": "markdown",
   "id": "48b73cfd",
   "metadata": {},
   "source": [
    "# Assumptions <a class=\"anchor\" id=\"assumptions\"></a>\n",
    "\n"
   ]
  },
  {
   "cell_type": "markdown",
   "id": "85f92730",
   "metadata": {},
   "source": [
    "One of the assumptions we're making here is that we don't just want a list of the authors of the commits. \n",
    "\n",
    "We could already get this data, very easily. \n",
    "\n",
    "But more work goes into releasing open source software then just those who author code. \n",
    "\n",
    "Django uses a separate issue tracking system, [Trac](https://code.djangoproject.com/), hosted on https://code.djangoproject.com/. \n",
    "\n",
    "Django also uses a separate system for handling translations, [Transifex](https://www.transifex.com/django/). \n",
    "\n",
    "For our purposes, here are our assumptions: \n"
   ]
  },
  {
   "cell_type": "markdown",
   "id": "77d8e9c4",
   "metadata": {},
   "source": [
    "Commits: \n",
    "\n",
    "* The commits in the release branch are the scope of the changes that we will focus on for a release. \n",
    "* The authors of those commits are contributors. \n",
    "\n",
    "Associating Tickets: \n",
    "\n",
    "* For any commit in scope, the linked tickets are associated work. \n",
    "* The state of those tickets is not in question, because if work happened to make a commit, it counts. \n",
    "\n",
    "Tickets: \n",
    "\n",
    "* Any non-trivial interaction on any linked ticket is a candidate for inclusion, where activity on a ticket will be further analysed. \n",
    "  \n",
    "Associating Pull Requests: \n",
    "\n",
    "* Where tickets have linked GitHub Pull Requests, the linked pull requests are associated work. \n",
    "* Those pull requests may have additional interactions (e.g. code review, comments). \n",
    "\n",
    "Pull Requests: \n",
    "\n",
    "* Any non-trivial interaction on any linked pull request is a candidate for inclusion, where activity on a pull request will be further analysed. \n"
   ]
  },
  {
   "cell_type": "markdown",
   "id": "7d7446b1",
   "metadata": {},
   "source": [
    "**Note**: In this case \"non-trivial\" interactions are those interactions that are work done. Arguments can be made about how much interactions count. The quantitative number in this case doesn't count (one interaction of high quality could count, many spam interactions could not). These will be analysed later. "
   ]
  },
  {
   "cell_type": "markdown",
   "id": "f1059cb7",
   "metadata": {},
   "source": [
    "--"
   ]
  },
  {
   "cell_type": "markdown",
   "id": "066673ee",
   "metadata": {},
   "source": [
    "## Gathering Data"
   ]
  },
  {
   "cell_type": "markdown",
   "id": "406aee15",
   "metadata": {},
   "source": [
    "### From `git` \n",
    "\n",
    "With our local git clone, we can go through all the commits in our scope and gather the information about the associated tickets. \n",
    "\n",
    "We're using the assumption that ticket numbers appear in git messages. "
   ]
  },
  {
   "cell_type": "code",
   "execution_count": 7,
   "id": "eaf343ed",
   "metadata": {
    "scrolled": true
   },
   "outputs": [
    {
     "name": "stdout",
     "output_type": "stream",
     "text": [
      "Git Commits: 829\n",
      "Git Trac Links: 563\n",
      "Tickets: 402\n"
     ]
    }
   ],
   "source": [
    "import re \n",
    "def get_git_commits(commit):\n",
    "    git_commits.append(\n",
    "        {\n",
    "            \"django_version\": target_release,\n",
    "            \"commit_sha\": commit.hexsha,\n",
    "            \"datetime\": commit.authored_date,\n",
    "            \"author\": commit.author.name,\n",
    "            \"author_email\": commit.author.email,\n",
    "            \"committer\": commit.committer.name,\n",
    "            \"committer_email\": commit.committer.email,\n",
    "            \"message\": commit.message,\n",
    "        }\n",
    "    )\n",
    "\n",
    "    # Get all ticket references in message\n",
    "    tickets = [x.replace(\"#\", \"\") for x in re.findall(\"\\#[0-9]*\", commit.message)]\n",
    "\n",
    "    for ticket in tickets:\n",
    "        if ticket:\n",
    "            git_trac_links.append(\n",
    "                {\"commit_sha\": commit.hexsha, \"trac_ticket_id\": ticket}\n",
    "            )\n",
    "\n",
    "            \n",
    "git_commits = []\n",
    "git_trac_links = []\n",
    "tickets = [] \n",
    "            \n",
    "for commit in commits:\n",
    "    get_git_commits(commit)\n",
    "    \n",
    "# Get unique list\n",
    "tickets = list(set([k[\"trac_ticket_id\"] for k in git_trac_links]))\n",
    "\n",
    "print(\"Git Commits:\", len(git_commits))\n",
    "print(\"Git Trac Links:\", len(git_trac_links))\n",
    "print(\"Tickets:\", len(tickets))"
   ]
  },
  {
   "cell_type": "markdown",
   "id": "ce5f3bbf",
   "metadata": {},
   "source": [
    "So we now have our associated tickets. \n",
    "\n",
    "---"
   ]
  },
  {
   "cell_type": "markdown",
   "id": "b7ada793",
   "metadata": {},
   "source": [
    "### From Trac\n",
    "From here, we need to get the information for each of these tickets out of Trac. Since this operation is expensive, we'll [cache the results](https://realpython.com/caching-external-api-requests/). "
   ]
  },
  {
   "cell_type": "code",
   "execution_count": 8,
   "id": "6c8ae990",
   "metadata": {},
   "outputs": [],
   "source": [
    "%%capture\n",
    "import sys\n",
    "!{sys.executable} -m pip install requests \"requests-cache[all]\" tqdm"
   ]
  },
  {
   "cell_type": "code",
   "execution_count": 9,
   "id": "be876b5f",
   "metadata": {},
   "outputs": [],
   "source": [
    "import requests\n",
    "from requests_cache import CachedSession\n",
    "\n",
    "# Note: POST may be ignored by default! So ensure we cache that. \n",
    "session = CachedSession('api_cache', backend='sqlite', allowable_methods=('GET', 'POST'))"
   ]
  },
  {
   "cell_type": "markdown",
   "id": "7339ed5c",
   "metadata": {},
   "source": [
    "With that setup, we'll now go through all the trac tickets we found: "
   ]
  },
  {
   "cell_type": "code",
   "execution_count": 10,
   "id": "9b6e0d7d",
   "metadata": {},
   "outputs": [
    {
     "data": {
      "application/vnd.jupyter.widget-view+json": {
       "model_id": "a35fe27d52bf47efba499e489c177f72",
       "version_major": 2,
       "version_minor": 0
      },
      "text/plain": [
       "  0%|          | 0/402 [00:00<?, ?it/s]"
      ]
     },
     "metadata": {},
     "output_type": "display_data"
    },
    {
     "name": "stdout",
     "output_type": "stream",
     "text": [
      "{'ticket_id': '33685', 'datetime': '2022-05-08T07:36:43', 'name': 'sambler', 'change_type': 'comment', 'old_value': '1', 'new_value': \"Looking at the pull request for the OPTIONS change, I find that I can use the service name `django_test`. This does not appear to be documented anywhere.\\r\\n\\r\\nWhile I wouldn't initially agree with using one login for testing all projects, use of this pg service name needs to be documented.\"}\n"
     ]
    }
   ],
   "source": [
    "import json\n",
    "\n",
    "# Shout out to John Sandall https://twitter.com/John_Sandall/status/1573711570894462977 \n",
    "from tqdm.notebook import tqdm, trange\n",
    "\n",
    "def get_trac_details(ticket_no):\n",
    "    \n",
    "    ticket_comments = []\n",
    "    \n",
    "    # Shout out to rixx https://gist.github.com/rixx/422392d2aa580b5d286e585418bf6915 \n",
    "    resp = session.post(\n",
    "        DJANGO_TRAC,\n",
    "        data=json.dumps(\n",
    "            {\"method\": \"ticket.get\", \"id\": ticket_no, \"params\": [ticket_no]}\n",
    "        ),\n",
    "        headers={\"Content-Type\": \"application/json\"},\n",
    "    )\n",
    "\n",
    "    data = resp.json()[\"result\"][3]\n",
    "    \n",
    "    ticket = {\n",
    "        \"ticket_id\": ticket_no,\n",
    "        \"status\": data[\"status\"],\n",
    "        \"reporter\": data[\"reporter\"],\n",
    "        \"resolution\": data[\"resolution\"],\n",
    "        \"description\": data[\"description\"],\n",
    "    }\n",
    "\n",
    "    # struct ticket.changeLog(int id, int when=0)\n",
    "    # Return the changelog as a list of tuples of the form\n",
    "    # (time, author, field, oldvalue, newvalue, permanent).\n",
    "    response = session.post(\n",
    "        DJANGO_TRAC,\n",
    "        data=json.dumps(\n",
    "            {\"method\": \"ticket.changeLog\", \"id\": ticket_no, \"params\": [ticket_no]}\n",
    "        ),\n",
    "        headers={\"Content-Type\": \"application/json\"},\n",
    "    )\n",
    "    \n",
    "    changes = response.json()[\"result\"]\n",
    "\n",
    "    for change in changes:\n",
    "        ticket_comments.append(\n",
    "            {\n",
    "                \"ticket_id\": ticket_no,\n",
    "                \"datetime\": change[0][\"__jsonclass__\"][1],\n",
    "                \"name\": change[1],\n",
    "                \"change_type\": change[2],\n",
    "                \"old_value\": change[3],\n",
    "                \"new_value\": change[4],\n",
    "            }\n",
    "        )\n",
    "    return ticket, ticket_comments\n",
    "\n",
    "\n",
    "\n",
    "trac_tickets = []\n",
    "trac_ticket_comments = []\n",
    "\n",
    "DJANGO_TRAC = \"https://code.djangoproject.com/jsonrpc\"\n",
    "\n",
    "for ticket_no in tqdm(tickets): \n",
    "    ticket, ticket_comments = get_trac_details(ticket_no)\n",
    "    trac_tickets.append(ticket)\n",
    "    trac_ticket_comments+= ticket_comments\n",
    "\n",
    "print(trac_ticket_comments[0])"
   ]
  },
  {
   "cell_type": "markdown",
   "id": "183bc4a6",
   "metadata": {},
   "source": [
    "We now have a list of all the Trac tickets and comments associated to commits in our target release. \n",
    "\n",
    "----"
   ]
  },
  {
   "cell_type": "markdown",
   "id": "2472b59a",
   "metadata": {},
   "source": [
    "### From GitHub\n",
    "\n",
    "From here, we can check for additional interactions on GitHub. \n",
    "\n",
    "Django's trac uses a [custom patch](https://github.com/django/code.djangoproject.com/blob/main/trac-env/htdocs/tickethacks.js#L38) to use the GitHub API to search for Pull Requests with the linked tickets, much like we did for associating commits to track tickets. \n",
    "\n",
    "We can use this same GitHub Search API to get the list of associated pull requests, then all the interactions on those pull requests. "
   ]
  },
  {
   "cell_type": "code",
   "execution_count": 11,
   "id": "e1b7356c",
   "metadata": {
    "scrolled": true
   },
   "outputs": [],
   "source": [
    "%load_ext dotenv\n",
    "%dotenv"
   ]
  },
  {
   "cell_type": "code",
   "execution_count": 12,
   "id": "fb77a6c3",
   "metadata": {},
   "outputs": [],
   "source": [
    "# Load a GitHub token to get better rate limits. \n",
    "import os\n",
    "GITHUB_TOKEN = os.getenv(\"GITHUB_TOKEN\")"
   ]
  },
  {
   "cell_type": "code",
   "execution_count": 13,
   "id": "9d784e07",
   "metadata": {},
   "outputs": [
    {
     "name": "stdout",
     "output_type": "stream",
     "text": [
      "GitHub core API limit: 0 / 5000 , resets 2022-10-21 15:52:10\n",
      "GitHub search API limit: 0 / 30 , resets 2022-10-21 14:53:10\n"
     ]
    }
   ],
   "source": [
    "# Check your rate limits. \n",
    "\n",
    "# https://docs.github.com/en/rest/rate-limit \n",
    "# curl \\\n",
    "#  -H \"Accept: application/vnd.github+json\" \\\n",
    "#  -H \"Authorization: Bearer <YOUR-TOKEN>\" \\\n",
    "#  https://api.github.com/rate_limit\n",
    "\n",
    "from datetime import datetime\n",
    "\n",
    "with session.cache_disabled():\n",
    "    resp = session.get(\"https://api.github.com/rate_limit\",\n",
    "            headers={\n",
    "                \"Authorization\": f\"Bearer {GITHUB_TOKEN}\",\n",
    "                \"Accept\": \"application/vnd.github.v3.raw\",\n",
    "            }\n",
    "        )\n",
    "data = resp.json()[\"resources\"]\n",
    "now = datetime.now()\n",
    "\n",
    "for limit_type in [\"core\", \"search\"]: \n",
    "    d = data[limit_type]\n",
    "    print(f\"GitHub {limit_type} API limit:\", d[\"used\"], \"/\", d[\"limit\"], \", resets\", datetime.fromtimestamp(d[\"reset\"]) )\n"
   ]
  },
  {
   "cell_type": "code",
   "execution_count": 14,
   "id": "c873224b",
   "metadata": {},
   "outputs": [
    {
     "data": {
      "application/vnd.jupyter.widget-view+json": {
       "model_id": "0b2930df7518415d912f8df209b5ab67",
       "version_major": 2,
       "version_minor": 0
      },
      "text/plain": [
       "  0%|          | 0/402 [00:00<?, ?it/s]"
      ]
     },
     "metadata": {},
     "output_type": "display_data"
    },
    {
     "data": {
      "application/vnd.jupyter.widget-view+json": {
       "model_id": "76f9a745f3ac4be587a40326755a2595",
       "version_major": 2,
       "version_minor": 0
      },
      "text/plain": [
       "  0%|          | 0/756 [00:00<?, ?it/s]"
      ]
     },
     "metadata": {},
     "output_type": "display_data"
    },
    {
     "name": "stdout",
     "output_type": "stream",
     "text": [
      "Pull requests: 756\n"
     ]
    }
   ],
   "source": [
    "import time \n",
    "\n",
    "def github_api(uri):\n",
    "    resp = session.get(\n",
    "        \"https://api.github.com\" + uri,\n",
    "        headers={\n",
    "            \"Authorization\": f\"Bearer {GITHUB_TOKEN}\",\n",
    "            \"Accept\": \"application/vnd.github+json\",\n",
    "        }\n",
    "    )\n",
    "\n",
    "    #if resp.status_code != 200:\n",
    "    #    if \"x-ratelimit-reset\" in resp.headers:\n",
    "    #        wait_seconds = int(resp.headers.get(\"x-ratelimit-reset\")) - int(time.time())\n",
    "    #        wait_minutes = int(wait_seconds / 60)\n",
    "    #        print(f\"Rate limit expired. Wait {wait_minutes} minutes (or {wait_seconds} seconds).\")\n",
    "    #    raise ValueError(resp.json()[\"message\"])\n",
    "\n",
    "    return resp.json()\n",
    "\n",
    "def search_for_pull_requests(ticket_id):\n",
    "    data = github_api(\n",
    "        \"/search/issues?q=repo:django/django+in:title+type:pr+\"\n",
    "        + \"%23\" + ticket_id + \"%20\" \n",
    "        + \"+%23\"+ ticket_id + \"%2C\" \n",
    "        + \"+%23\"+ ticket_id + \"%3A\" \n",
    "        + \"+%23\"+ ticket_id + \"%29\"\n",
    "    )[\"items\"]\n",
    "\n",
    "    return [x[\"number\"] for x in data]\n",
    "\n",
    "\n",
    "def get_pull_request(pr_id): \n",
    "    data = github_api(f\"/repos/django/django/pulls/{pr_id}\")\n",
    "    \n",
    "    pr = {\"id\": data[\"number\"], \n",
    "          \"state\": data[\"state\"], \n",
    "          \"user\": data[\"user\"][\"login\"], \n",
    "         }\n",
    "    \n",
    "    return pr\n",
    "\n",
    "pull_request_ids = []\n",
    "pull_requests = []\n",
    "\n",
    "for ticket_no in tqdm(tickets): \n",
    "    pull_request_ids += search_for_pull_requests(ticket_no)\n",
    "\n",
    "pull_request_ids = list(set(pull_request_ids))\n",
    "\n",
    "for pr_id in tqdm(pull_request_ids):\n",
    "    pull_requests.append(get_pull_request(pr_id))\n",
    "\n",
    "print(\"Pull requests:\", len(pull_requests))"
   ]
  },
  {
   "cell_type": "markdown",
   "id": "f59c847c",
   "metadata": {},
   "source": [
    "For all these pull requests, we need to get the comments associated.  "
   ]
  },
  {
   "cell_type": "code",
   "execution_count": 15,
   "id": "dfe2390c",
   "metadata": {},
   "outputs": [
    {
     "data": {
      "application/vnd.jupyter.widget-view+json": {
       "model_id": "7cbefef7f8d54d3c8d5fb2daae4a6b60",
       "version_major": 2,
       "version_minor": 0
      },
      "text/plain": [
       "  0%|          | 0/756 [00:00<?, ?it/s]"
      ]
     },
     "metadata": {},
     "output_type": "display_data"
    },
    {
     "name": "stdout",
     "output_type": "stream",
     "text": [
      "Pull Request Comments: 6263\n"
     ]
    }
   ],
   "source": [
    "def get_comments_from_pull_request(pull_request_id):\n",
    "    comments = []\n",
    "\n",
    "    # Comments\n",
    "    data = github_api(f\"/repos/django/django/pulls/{pull_request_id}/comments\")\n",
    "\n",
    "    for record in data:\n",
    "        comments.append(\n",
    "            {\n",
    "                \"user\": record[\"user\"][\"login\"],\n",
    "                \"commit_id\": record[\"commit_id\"],\n",
    "                \"message\": record[\"body\"],\n",
    "                \"pull_request\": pull_request_id\n",
    "            }\n",
    "        )\n",
    "\n",
    "    # Review Comments\n",
    "    data = github_api(f\"/repos/django/django/issues/{pull_request_id}/comments\")\n",
    "\n",
    "    for record in data:\n",
    "        comments.append(\n",
    "            {\n",
    "                \"user\": record[\"user\"][\"login\"],\n",
    "                \"commit_id\": None,\n",
    "                \"message\": record[\"body\"],\n",
    "                \"pull_request\": pull_request_id,\n",
    "            }\n",
    "        )\n",
    "\n",
    "    return comments\n",
    "\n",
    "pr_comments = []\n",
    "\n",
    "for request in tqdm(pull_requests):\n",
    "    pr_comments += get_comments_from_pull_request(request[\"id\"])\n",
    "\n",
    "print(\"Pull Request Comments:\", len(pr_comments))\n"
   ]
  },
  {
   "cell_type": "markdown",
   "id": "52397210",
   "metadata": {},
   "source": [
    "Now, we have all the data we need to start analysing. \n",
    "\n",
    "---"
   ]
  },
  {
   "cell_type": "markdown",
   "id": "ce37cf64",
   "metadata": {},
   "source": [
    "# Analysis <a class=\"anchor\" id=\"analysis\"></a>\n",
    " \n",
    " \n",
    "Our analysis is going to be based on our [assumptions](#assumptions). \n",
    "\n",
    "TODO\n",
    "\n",
    "https://github.com/cncf/devstats/blob/master/README_K8s.md \"Contribution: a review, comment, commit, issue or PR\""
   ]
  },
  {
   "cell_type": "markdown",
   "id": "c55089cf",
   "metadata": {},
   "source": [
    "To get started, we'll setup pandas"
   ]
  },
  {
   "cell_type": "code",
   "execution_count": 16,
   "id": "fff377d9",
   "metadata": {},
   "outputs": [],
   "source": [
    "%%capture\n",
    "import sys\n",
    "!{sys.executable} -m pip install pandas"
   ]
  },
  {
   "cell_type": "markdown",
   "id": "d2ce8ebd",
   "metadata": {},
   "source": [
    "and convert our lists to DataFrames"
   ]
  },
  {
   "cell_type": "code",
   "execution_count": 34,
   "id": "dee1b489",
   "metadata": {},
   "outputs": [
    {
     "name": "stdout",
     "output_type": "stream",
     "text": [
      "Git Commit keys: django_version, commit_sha, datetime, author, author_email, committer, committer_email, message\n",
      "Pull Request keys: id, state, user\n",
      "Pull Request Comments keys: user, commit_id, message, pull_request\n",
      "Trac Ticket keys: ticket_id, status, reporter, resolution, description\n",
      "Trac Ticket Comments keys: ticket_id, datetime, name, change_type, old_value, new_value\n"
     ]
    }
   ],
   "source": [
    "\n",
    "import pandas as pd\n",
    "\n",
    "git_commits_df = pd.DataFrame(git_commits)\n",
    "print(\"Git Commit keys:\", \", \".join(list(git_commits_df.keys())))\n",
    "\n",
    "git_trac_links_df = pd.DataFrame(git_trac_links)\n",
    "pull_requests_df = pd.DataFrame(pull_requests)\n",
    "print(\"Pull Request keys:\", \", \".join(list(pull_requests_df.keys())))\n",
    "pull_request_comments_df = pd.DataFrame(pr_comments)\n",
    "print(\"Pull Request Comments keys:\", \", \".join(list(pull_request_comments_df.keys())))\n",
    "trac_tickets_df = pd.DataFrame(trac_tickets)\n",
    "print(\"Trac Ticket keys:\", \", \".join(list(trac_tickets_df.keys())))\n",
    "trac_ticket_comments_df = pd.DataFrame(trac_ticket_comments)\n",
    "print(\"Trac Ticket Comments keys:\", \", \".join(list(trac_ticket_comments_df.keys())))"
   ]
  },
  {
   "cell_type": "code",
   "execution_count": null,
   "id": "1997c55b",
   "metadata": {},
   "outputs": [],
   "source": []
  },
  {
   "cell_type": "markdown",
   "id": "6b777345",
   "metadata": {},
   "source": [
    "For starters, who are our Git Commit Authors:"
   ]
  },
  {
   "cell_type": "code",
   "execution_count": 18,
   "id": "cb85f38e",
   "metadata": {},
   "outputs": [
    {
     "data": {
      "text/plain": [
       "Mariusz Felisiak    205\n",
       "Carlton Gibson       60\n",
       "Adam Johnson         40\n",
       "David Smith          25\n",
       "Jacob Walls          24\n",
       "                   ... \n",
       "Sage Abdullah         1\n",
       "Biel Frontera         1\n",
       "David Sanders         1\n",
       "Adrian Torres         1\n",
       "Cleiton Lima          1\n",
       "Name: author, Length: 213, dtype: int64"
      ]
     },
     "execution_count": 18,
     "metadata": {},
     "output_type": "execute_result"
    }
   ],
   "source": [
    "git_commits_df.author.value_counts()"
   ]
  },
  {
   "cell_type": "markdown",
   "id": "14b8ff30",
   "metadata": {},
   "source": [
    "And who are our Pull Request Authors:"
   ]
  },
  {
   "cell_type": "code",
   "execution_count": 19,
   "id": "41bf72bb",
   "metadata": {
    "scrolled": false
   },
   "outputs": [
    {
     "data": {
      "text/plain": [
       "felixxm            145\n",
       "smithdc1            37\n",
       "carltongibson       36\n",
       "claudep             27\n",
       "jacobtylerwalls     20\n",
       "                  ... \n",
       "ChihSeanHsu          1\n",
       "vishalpandeyvip      1\n",
       "alvaromlg            1\n",
       "omerfarukabaci       1\n",
       "mzjp2                1\n",
       "Name: user, Length: 245, dtype: int64"
      ]
     },
     "execution_count": 19,
     "metadata": {},
     "output_type": "execute_result"
    }
   ],
   "source": [
    "pull_requests_df.user.value_counts()"
   ]
  },
  {
   "cell_type": "markdown",
   "id": "24c4c94d",
   "metadata": {},
   "source": [
    "This is where things start to break, because we have Names and Aliases. "
   ]
  },
  {
   "cell_type": "code",
   "execution_count": 70,
   "id": "6f16ec25",
   "metadata": {},
   "outputs": [
    {
     "data": {
      "application/vnd.jupyter.widget-view+json": {
       "model_id": "e7626c708a2d415ca24ec5ffc836f6b8",
       "version_major": 2,
       "version_minor": 0
      },
      "text/plain": [
       "  0%|          | 0/245 [00:00<?, ?it/s]"
      ]
     },
     "metadata": {},
     "output_type": "display_data"
    },
    {
     "name": "stdout",
     "output_type": "stream",
     "text": [
      "GitHub users: 245\n",
      "GitHub keys: Index(['login', 'name'], dtype='object')\n"
     ]
    }
   ],
   "source": [
    "github_users = []\n",
    "\n",
    "def get_github_user(user):\n",
    "    data = github_api(f\"/users/{user}\")\n",
    "    return {\"login\": data[\"login\"], \n",
    "           \"name\": data[\"name\"]}\n",
    "\n",
    "    \n",
    "for user in tqdm(list(pull_requests_df.user.unique())):\n",
    "    github_users.append(get_github_user(user))\n",
    "\n",
    "print(\"GitHub users:\", len(github_users))\n",
    "github_users_df = pd.DataFrame(github_users)\n",
    "print(\"GitHub keys:\", github_users_df.keys())"
   ]
  },
  {
   "cell_type": "markdown",
   "id": "bf1923a7",
   "metadata": {},
   "source": [
    "Then, we can start mapping things together."
   ]
  },
  {
   "cell_type": "code",
   "execution_count": 21,
   "id": "9d44bef4",
   "metadata": {},
   "outputs": [
    {
     "data": {
      "text/plain": [
       "felixxm          2163\n",
       "carltongibson     493\n",
       "ngnpope           291\n",
       "smithdc1          239\n",
       "timgraham         214\n",
       "                 ... \n",
       "n2ygk               1\n",
       "flaeppe             1\n",
       "pifantastic         1\n",
       "guettli             1\n",
       "mzjp2               1\n",
       "Name: user, Length: 321, dtype: int64"
      ]
     },
     "execution_count": 21,
     "metadata": {},
     "output_type": "execute_result"
    }
   ],
   "source": [
    "pull_request_comments_df.user.value_counts()"
   ]
  },
  {
   "cell_type": "markdown",
   "id": "8a65690f",
   "metadata": {},
   "source": [
    "TODO\n",
    "\n",
    "Let's take an example user, and check all their contributions: "
   ]
  },
  {
   "cell_type": "code",
   "execution_count": 106,
   "id": "9049d203",
   "metadata": {},
   "outputs": [
    {
     "name": "stdout",
     "output_type": "stream",
     "text": [
      "## Data for glasnt (glasnt)\n",
      "\n",
      "Git Commits: 0\n",
      "\n",
      "Pull Requests Authored: 0\n",
      "\n",
      "Pull Request comments: 4\n",
      "      pull_request                                            message\n",
      "3180          9071  Could we provide an example of how this would ...\n",
      "3181          9071                          s/forms, that/forms that/\n",
      "3182          9071                                I like this analogy\n",
      "3183          9071  `s/(note that this/(Note: this/` I think would...\n",
      "\n",
      "Trac Ticket comments: 0\n"
     ]
    }
   ],
   "source": [
    "def user_contributions(user): \n",
    "    def dooutput(msg, df): \n",
    "        print(\"\\n\" + msg + \":\", len(df))\n",
    "        if len(df) < 10 and len(df) > 0: \n",
    "            print(df)\n",
    "    \n",
    "    \n",
    "    name = user \n",
    "    mapping = github_users_df[github_users_df[\"login\"]==user]\n",
    "    if len(mapping) > 0: #.any(): \n",
    "        name = mapping[\"name\"].item()\n",
    "    \n",
    "    print(f\"## Data for {user} ({name})\")\n",
    "    \n",
    "    gcs = git_commits_df[git_commits_df[\"author\"].isin([name])][[\"author\", \"message\"]]\n",
    "    dooutput(\"Git Commits\", gcs)\n",
    "          \n",
    "    prs = pull_requests_df[pull_requests_df[\"user\"].isin([user])]\n",
    "    dooutput(\"Pull Requests Authored\", prs)\n",
    "    \n",
    "    prcs = pull_request_comments_df[pull_request_comments_df[\"user\"].isin([user])][[\"pull_request\", \"message\"]]\n",
    "    dooutput(\"Pull Request comments\", prcs)\n",
    "    \n",
    "    ttcs = trac_ticket_comments_df[trac_ticket_comments_df[\"name\"].isin([user])][[\"ticket_id\", \"change_type\"]]\n",
    "    dooutput(\"Trac Ticket comments\", ttcs)\n",
    "    \n",
    "user_contributions(\"glasnt\")"
   ]
  },
  {
   "cell_type": "markdown",
   "id": "4fa3341a",
   "metadata": {},
   "source": [
    "Words words TODO"
   ]
  },
  {
   "cell_type": "code",
   "execution_count": 50,
   "id": "59ff1213",
   "metadata": {},
   "outputs": [
    {
     "ename": "KeyError",
     "evalue": "('message', 'pull-request')",
     "output_type": "error",
     "traceback": [
      "\u001b[0;31m---------------------------------------------------------------------------\u001b[0m",
      "\u001b[0;31mKeyError\u001b[0m                                  Traceback (most recent call last)",
      "File \u001b[0;32m~/.pyenv/versions/3.9.9/lib/python3.9/site-packages/pandas/core/indexes/base.py:3800\u001b[0m, in \u001b[0;36mIndex.get_loc\u001b[0;34m(self, key, method, tolerance)\u001b[0m\n\u001b[1;32m   3799\u001b[0m \u001b[38;5;28;01mtry\u001b[39;00m:\n\u001b[0;32m-> 3800\u001b[0m     \u001b[38;5;28;01mreturn\u001b[39;00m \u001b[38;5;28;43mself\u001b[39;49m\u001b[38;5;241;43m.\u001b[39;49m\u001b[43m_engine\u001b[49m\u001b[38;5;241;43m.\u001b[39;49m\u001b[43mget_loc\u001b[49m\u001b[43m(\u001b[49m\u001b[43mcasted_key\u001b[49m\u001b[43m)\u001b[49m\n\u001b[1;32m   3801\u001b[0m \u001b[38;5;28;01mexcept\u001b[39;00m \u001b[38;5;167;01mKeyError\u001b[39;00m \u001b[38;5;28;01mas\u001b[39;00m err:\n",
      "File \u001b[0;32m~/.pyenv/versions/3.9.9/lib/python3.9/site-packages/pandas/_libs/index.pyx:138\u001b[0m, in \u001b[0;36mpandas._libs.index.IndexEngine.get_loc\u001b[0;34m()\u001b[0m\n",
      "File \u001b[0;32m~/.pyenv/versions/3.9.9/lib/python3.9/site-packages/pandas/_libs/index.pyx:165\u001b[0m, in \u001b[0;36mpandas._libs.index.IndexEngine.get_loc\u001b[0;34m()\u001b[0m\n",
      "File \u001b[0;32mpandas/_libs/hashtable_class_helper.pxi:5745\u001b[0m, in \u001b[0;36mpandas._libs.hashtable.PyObjectHashTable.get_item\u001b[0;34m()\u001b[0m\n",
      "File \u001b[0;32mpandas/_libs/hashtable_class_helper.pxi:5753\u001b[0m, in \u001b[0;36mpandas._libs.hashtable.PyObjectHashTable.get_item\u001b[0;34m()\u001b[0m\n",
      "\u001b[0;31mKeyError\u001b[0m: ('message', 'pull-request')",
      "\nThe above exception was the direct cause of the following exception:\n",
      "\u001b[0;31mKeyError\u001b[0m                                  Traceback (most recent call last)",
      "Cell \u001b[0;32mIn [50], line 1\u001b[0m\n\u001b[0;32m----> 1\u001b[0m \u001b[43muser_contributions\u001b[49m\u001b[43m(\u001b[49m\u001b[38;5;124;43m\"\u001b[39;49m\u001b[38;5;124;43mn2ygk\u001b[39;49m\u001b[38;5;124;43m\"\u001b[39;49m\u001b[43m)\u001b[49m\n",
      "Cell \u001b[0;32mIn [49], line 7\u001b[0m, in \u001b[0;36muser_contributions\u001b[0;34m(user)\u001b[0m\n\u001b[1;32m      4\u001b[0m     \u001b[38;5;28;01mif\u001b[39;00m \u001b[38;5;28mlen\u001b[39m(df) \u001b[38;5;241m>\u001b[39m \u001b[38;5;241m0\u001b[39m: \n\u001b[1;32m      5\u001b[0m         \u001b[38;5;28mprint\u001b[39m(df)\n\u001b[0;32m----> 7\u001b[0m gcs \u001b[38;5;241m=\u001b[39m \u001b[43mgit_commits_df\u001b[49m\u001b[43m[\u001b[49m\u001b[43mgit_commits_df\u001b[49m\u001b[43m[\u001b[49m\u001b[38;5;124;43m\"\u001b[39;49m\u001b[38;5;124;43mauthor\u001b[39;49m\u001b[38;5;124;43m\"\u001b[39;49m\u001b[43m]\u001b[49m\u001b[38;5;241;43m.\u001b[39;49m\u001b[43misin\u001b[49m\u001b[43m(\u001b[49m\u001b[43m[\u001b[49m\u001b[43muser\u001b[49m\u001b[43m]\u001b[49m\u001b[43m)\u001b[49m\u001b[43m]\u001b[49m\u001b[43m[\u001b[49m\u001b[38;5;124;43m\"\u001b[39;49m\u001b[38;5;124;43mmessage\u001b[39;49m\u001b[38;5;124;43m\"\u001b[39;49m\u001b[43m,\u001b[49m\u001b[43m \u001b[49m\u001b[38;5;124;43m\"\u001b[39;49m\u001b[38;5;124;43mpull-request\u001b[39;49m\u001b[38;5;124;43m\"\u001b[39;49m\u001b[43m]\u001b[49m\n\u001b[1;32m      8\u001b[0m dooutput(\u001b[38;5;124m\"\u001b[39m\u001b[38;5;124mGit Commits\u001b[39m\u001b[38;5;124m\"\u001b[39m, gcs)\n\u001b[1;32m     10\u001b[0m prs \u001b[38;5;241m=\u001b[39m pull_requests_df[pull_requests_df[\u001b[38;5;124m\"\u001b[39m\u001b[38;5;124muser\u001b[39m\u001b[38;5;124m\"\u001b[39m]\u001b[38;5;241m.\u001b[39misin([user])]\n",
      "File \u001b[0;32m~/.pyenv/versions/3.9.9/lib/python3.9/site-packages/pandas/core/frame.py:3805\u001b[0m, in \u001b[0;36mDataFrame.__getitem__\u001b[0;34m(self, key)\u001b[0m\n\u001b[1;32m   3803\u001b[0m \u001b[38;5;28;01mif\u001b[39;00m \u001b[38;5;28mself\u001b[39m\u001b[38;5;241m.\u001b[39mcolumns\u001b[38;5;241m.\u001b[39mnlevels \u001b[38;5;241m>\u001b[39m \u001b[38;5;241m1\u001b[39m:\n\u001b[1;32m   3804\u001b[0m     \u001b[38;5;28;01mreturn\u001b[39;00m \u001b[38;5;28mself\u001b[39m\u001b[38;5;241m.\u001b[39m_getitem_multilevel(key)\n\u001b[0;32m-> 3805\u001b[0m indexer \u001b[38;5;241m=\u001b[39m \u001b[38;5;28;43mself\u001b[39;49m\u001b[38;5;241;43m.\u001b[39;49m\u001b[43mcolumns\u001b[49m\u001b[38;5;241;43m.\u001b[39;49m\u001b[43mget_loc\u001b[49m\u001b[43m(\u001b[49m\u001b[43mkey\u001b[49m\u001b[43m)\u001b[49m\n\u001b[1;32m   3806\u001b[0m \u001b[38;5;28;01mif\u001b[39;00m is_integer(indexer):\n\u001b[1;32m   3807\u001b[0m     indexer \u001b[38;5;241m=\u001b[39m [indexer]\n",
      "File \u001b[0;32m~/.pyenv/versions/3.9.9/lib/python3.9/site-packages/pandas/core/indexes/base.py:3802\u001b[0m, in \u001b[0;36mIndex.get_loc\u001b[0;34m(self, key, method, tolerance)\u001b[0m\n\u001b[1;32m   3800\u001b[0m     \u001b[38;5;28;01mreturn\u001b[39;00m \u001b[38;5;28mself\u001b[39m\u001b[38;5;241m.\u001b[39m_engine\u001b[38;5;241m.\u001b[39mget_loc(casted_key)\n\u001b[1;32m   3801\u001b[0m \u001b[38;5;28;01mexcept\u001b[39;00m \u001b[38;5;167;01mKeyError\u001b[39;00m \u001b[38;5;28;01mas\u001b[39;00m err:\n\u001b[0;32m-> 3802\u001b[0m     \u001b[38;5;28;01mraise\u001b[39;00m \u001b[38;5;167;01mKeyError\u001b[39;00m(key) \u001b[38;5;28;01mfrom\u001b[39;00m \u001b[38;5;21;01merr\u001b[39;00m\n\u001b[1;32m   3803\u001b[0m \u001b[38;5;28;01mexcept\u001b[39;00m \u001b[38;5;167;01mTypeError\u001b[39;00m:\n\u001b[1;32m   3804\u001b[0m     \u001b[38;5;66;03m# If we have a listlike key, _check_indexing_error will raise\u001b[39;00m\n\u001b[1;32m   3805\u001b[0m     \u001b[38;5;66;03m#  InvalidIndexError. Otherwise we fall through and re-raise\u001b[39;00m\n\u001b[1;32m   3806\u001b[0m     \u001b[38;5;66;03m#  the TypeError.\u001b[39;00m\n\u001b[1;32m   3807\u001b[0m     \u001b[38;5;28mself\u001b[39m\u001b[38;5;241m.\u001b[39m_check_indexing_error(key)\n",
      "\u001b[0;31mKeyError\u001b[0m: ('message', 'pull-request')"
     ]
    }
   ],
   "source": [
    "for "
   ]
  }
 ],
 "metadata": {
  "kernelspec": {
   "display_name": "venv",
   "language": "python",
   "name": "venv"
  },
  "language_info": {
   "codemirror_mode": {
    "name": "ipython",
    "version": 3
   },
   "file_extension": ".py",
   "mimetype": "text/x-python",
   "name": "python",
   "nbconvert_exporter": "python",
   "pygments_lexer": "ipython3",
   "version": "3.9.9"
  }
 },
 "nbformat": 4,
 "nbformat_minor": 5
}
